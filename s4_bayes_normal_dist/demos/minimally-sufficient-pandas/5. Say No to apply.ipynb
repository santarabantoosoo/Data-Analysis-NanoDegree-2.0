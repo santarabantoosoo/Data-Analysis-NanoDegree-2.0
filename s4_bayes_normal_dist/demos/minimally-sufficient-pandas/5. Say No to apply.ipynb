{
 "cells": [
  {
   "cell_type": "markdown",
   "metadata": {},
   "source": [
    "# 5. Say No to `apply`\n",
    "\n",
    "The `apply` method is one that should be avoided at all costs.\n",
    "\n",
    "## `apply` - a method that does nothing (almost)\n",
    "The `apply` method does just about nothing. It is available so that you can use your own custom function in the case that it doesn't already exist in Pandas. For instance, there is no direct method for finding the difference between the maximum and minimum value of a column. You can define your own function that does this and pass it to the `apply` function to have this done.\n",
    "\n",
    "Let's see hows this would work by creating some random data from a normal distribution."
   ]
  },
  {
   "cell_type": "code",
   "execution_count": null,
   "metadata": {},
   "outputs": [],
   "source": [
    "import numpy as np\n",
    "import pandas as pd\n",
    "\n",
    "a = np.random.randn(10 ** 4, 5)\n",
    "df = pd.DataFrame(data=a, columns=['a', 'b', 'c', 'd', 'e'])\n",
    "df.head()"
   ]
  },
  {
   "cell_type": "markdown",
   "metadata": {},
   "source": [
    "Now, let's define our own function to take the maximum and minimum value of each column and return the difference. By default, Pandas will pass each column to the custom function as a Series. This is why it is defined with the variable name `s`."
   ]
  },
  {
   "cell_type": "code",
   "execution_count": null,
   "metadata": {},
   "outputs": [],
   "source": [
    "def min_max_diff(s):\n",
    "    return s.max() - s.min()"
   ]
  },
  {
   "cell_type": "code",
   "execution_count": null,
   "metadata": {},
   "outputs": [],
   "source": [
    "df.apply(min_max_diff)"
   ]
  },
  {
   "cell_type": "markdown",
   "metadata": {},
   "source": [
    "### No need to use `apply` here\n",
    "There is no need to use `apply` here. There exists Pandas methods for the min and the max. We can find the min and max of each of the columns separately and then subtract the results."
   ]
  },
  {
   "cell_type": "code",
   "execution_count": null,
   "metadata": {},
   "outputs": [],
   "source": [
    "df.max()"
   ]
  },
  {
   "cell_type": "code",
   "execution_count": null,
   "metadata": {},
   "outputs": [],
   "source": [
    "df.min()"
   ]
  },
  {
   "cell_type": "code",
   "execution_count": null,
   "metadata": {},
   "outputs": [],
   "source": [
    "df.max() - df.min()"
   ]
  },
  {
   "cell_type": "markdown",
   "metadata": {},
   "source": [
    "### Time performance of each"
   ]
  },
  {
   "cell_type": "code",
   "execution_count": null,
   "metadata": {},
   "outputs": [],
   "source": [
    "%timeit -n 5 df.apply(min_max_diff)"
   ]
  },
  {
   "cell_type": "code",
   "execution_count": null,
   "metadata": {},
   "outputs": [],
   "source": [
    "%timeit -n 5 df.max() - df.min()"
   ]
  },
  {
   "cell_type": "markdown",
   "metadata": {},
   "source": [
    "## Using `apply` when `axis='columns'` - the slowest operation in Pandas\n",
    "Let's say we wanted to repeat this example, except this time we were interested in finding the difference between the min and max values of each row. By default, `apply` will pass each column to the custom function.  We can change the direction of the operation by setting the parameter `axis` to 'columns'."
   ]
  },
  {
   "cell_type": "code",
   "execution_count": null,
   "metadata": {},
   "outputs": [],
   "source": [
    "df.apply(min_max_diff, axis='columns').head()"
   ]
  },
  {
   "cell_type": "code",
   "execution_count": null,
   "metadata": {},
   "outputs": [],
   "source": [
    "(df.max(axis='columns') - df.min(axis='columns')).head()"
   ]
  },
  {
   "cell_type": "markdown",
   "metadata": {},
   "source": [
    "### Time performance\n",
    "\n",
    "Around 1000 times performance improvement."
   ]
  },
  {
   "cell_type": "code",
   "execution_count": null,
   "metadata": {},
   "outputs": [],
   "source": [
    "%timeit -n 1 -r 1 df.apply(min_max_diff, axis='columns')"
   ]
  },
  {
   "cell_type": "code",
   "execution_count": null,
   "metadata": {},
   "outputs": [],
   "source": [
    "%timeit -n 5 df.max(axis='columns') - df.min(axis='columns')"
   ]
  },
  {
   "cell_type": "markdown",
   "metadata": {},
   "source": [
    "### `apply` is no different than a for loop\n",
    "The `apply` method is just a one-line automated for loop. We can reproduce what it does with an actual explicit for loop like this:"
   ]
  },
  {
   "cell_type": "code",
   "execution_count": null,
   "metadata": {},
   "outputs": [],
   "source": [
    "data = {}\n",
    "for col in df.columns:\n",
    "    data[col] = df[col].max() - df[col].min()\n",
    "pd.Series(data)"
   ]
  },
  {
   "cell_type": "markdown",
   "metadata": {},
   "source": [
    "Notice that its performance is similar to the idiomatic solution from above."
   ]
  },
  {
   "cell_type": "code",
   "execution_count": null,
   "metadata": {},
   "outputs": [],
   "source": [
    "%%timeit -n 5\n",
    "\n",
    "data = {}\n",
    "for col in df.columns:\n",
    "    data[col] = df[col].max() - df[col].min()\n",
    "pd.Series(data)"
   ]
  },
  {
   "cell_type": "markdown",
   "metadata": {},
   "source": [
    "And here is `apply` reproduced over each row. It's incredibly slow."
   ]
  },
  {
   "cell_type": "code",
   "execution_count": null,
   "metadata": {},
   "outputs": [],
   "source": [
    "%%timeit -n 1 -r 1\n",
    "\n",
    "data = {}\n",
    "for row in range(len(df)):\n",
    "    vals = df.iloc[row]\n",
    "    data[row] = vals.max() - vals.min()\n",
    "pd.Series(data)"
   ]
  },
  {
   "cell_type": "markdown",
   "metadata": {},
   "source": [
    "## Summary of `apply`\n",
    "* `apply` is an automated for loop that passes each column or row to a user-defined function\n",
    "* Use `apply` as a method of last resort\n",
    "* Using `apply` with `axis='columns'` is one of the slowest operations in all of Pandas\n",
    "\n",
    "## How to un-`apply`\n",
    "If you have already created a user-defined function that you use for `apply`, you can often make it work without `apply`.\n",
    "* Always choose a Pandas method over any user-defined function with `apply`\n",
    "* Try and convert each line of your user-defined method to one that is done outside of it"
   ]
  },
  {
   "cell_type": "markdown",
   "metadata": {},
   "source": [
    "## Acceptable use cases for `apply`\n",
    "The `apply` method should only be used whenever the operation cannot be easily completed with Pandas methods directly, which is very rare. Here is one example with the college dataset. The `md_earn_wne_p10` and `grad_debt_mdn_supp` columns appear to be numeric, but are actually read in as strings. Let's select these columns into their own DataFrame and look at their data types."
   ]
  },
  {
   "cell_type": "code",
   "execution_count": null,
   "metadata": {},
   "outputs": [],
   "source": [
    "college = pd.read_csv('data/college.csv')\n",
    "college.head()"
   ]
  },
  {
   "cell_type": "markdown",
   "metadata": {},
   "source": [
    "Notice the strings 'PrivacySuppressed', which is why these columns were read in as strings and not numbers."
   ]
  },
  {
   "cell_type": "code",
   "execution_count": null,
   "metadata": {},
   "outputs": [],
   "source": [
    "df = college[['md_earn_wne_p10', 'grad_debt_mdn_supp']]\n",
    "df.head(20)"
   ]
  },
  {
   "cell_type": "code",
   "execution_count": null,
   "metadata": {},
   "outputs": [],
   "source": [
    "df.dtypes"
   ]
  },
  {
   "cell_type": "markdown",
   "metadata": {},
   "source": [
    "The function `to_numeric` can coerce single columns, but not entire DataFrames, to a numeric data type. We can use `apply` here to have it iterate over and coerce each column to a numeric. The `apply` method allows us to pass additional keyword arguments to the function it is applying. We must do that here and set `errors` to be the string `coerce` to force Pandas to turn all 'PrivacySuppressed' strings to missing values."
   ]
  },
  {
   "cell_type": "code",
   "execution_count": null,
   "metadata": {},
   "outputs": [],
   "source": [
    "df_num = df.apply(pd.to_numeric, errors='coerce')\n",
    "df_num.head(20)"
   ]
  },
  {
   "cell_type": "code",
   "execution_count": null,
   "metadata": {},
   "outputs": [],
   "source": [
    "df_num.dtypes"
   ]
  },
  {
   "cell_type": "markdown",
   "metadata": {},
   "source": [
    "### Exercise 3\n",
    "<span style=\"color:green; font-size:16px\">Add a column named **`distance`** to the following DataFrame that computes the euclidean distance between points **`(x1, y1)`** and **`(x2, y2)`**. Calculate it once with **`apply`** and again idiomatically using vectorized operations. Time the difference between them.</span>"
   ]
  },
  {
   "cell_type": "code",
   "execution_count": null,
   "metadata": {},
   "outputs": [],
   "source": [
    "# run this first\n",
    "df = pd.DataFrame(np.random.randint(0, 20, (100000, 4)), \n",
    "                  columns=['x1', 'y1', 'x2', 'y2'])\n",
    "df.head()"
   ]
  },
  {
   "cell_type": "code",
   "execution_count": null,
   "metadata": {},
   "outputs": [],
   "source": []
  },
  {
   "cell_type": "markdown",
   "metadata": {},
   "source": [
    "### Exercise 4\n",
    "<span style=\"color:green; font-size:16px\">Using the college dataset, add a new column that has the word 'yes' if the school has a median total SAT score more than 1100 or 'no' if it does not. Do not use `apply`. </span>"
   ]
  },
  {
   "cell_type": "code",
   "execution_count": null,
   "metadata": {},
   "outputs": [],
   "source": [
    "college = pd.read_csv('data/college.csv')\n",
    "college.head()"
   ]
  },
  {
   "cell_type": "code",
   "execution_count": null,
   "metadata": {},
   "outputs": [],
   "source": []
  }
 ],
 "metadata": {
  "kernelspec": {
   "display_name": "Python 3",
   "language": "python",
   "name": "python3"
  },
  "language_info": {
   "codemirror_mode": {
    "name": "ipython",
    "version": 3
   },
   "file_extension": ".py",
   "mimetype": "text/x-python",
   "name": "python",
   "nbconvert_exporter": "python",
   "pygments_lexer": "ipython3",
   "version": "3.6.7"
  }
 },
 "nbformat": 4,
 "nbformat_minor": 2
}
