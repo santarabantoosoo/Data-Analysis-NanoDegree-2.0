{
 "cells": [
  {
   "cell_type": "markdown",
   "metadata": {},
   "source": [
    "# 8. Say No to `apply` with `groupby`"
   ]
  },
  {
   "cell_type": "markdown",
   "metadata": {},
   "source": [
    "### What is `apply` with `groupby`\n",
    "Typically when calling `groupby`, you will use one of the standard aggregation functions that Pandas already has built such as sum, min, median, etc... Occasionally, you might need to write your own customized aggregation (or non-aggregation) function. To do so require you use `apply`.\n",
    "\n",
    "Previously, we learned that `apply` can lead to very poor performance. This is especially true when using it with `groupby`. Let's see this in action with a problem that might lead you to think we absolutely need to use `apply`."
   ]
  },
  {
   "cell_type": "markdown",
   "metadata": {},
   "source": [
    "## Challenge"
   ]
  },
  {
   "cell_type": "markdown",
   "metadata": {},
   "source": [
    "Using the college dataset, for each state, find the percentage of the total state population made up by the 5 largest colleges of that state."
   ]
  },
  {
   "cell_type": "code",
   "execution_count": null,
   "metadata": {},
   "outputs": [],
   "source": [
    "import pandas as pd\n",
    "pd.set_option('display.max_columns', 100)\n",
    "college = pd.read_csv('data/college.csv')\n",
    "college.head()"
   ]
  },
  {
   "cell_type": "markdown",
   "metadata": {},
   "source": [
    "### A naive solution\n",
    "We can define a custom aggregation function to sort each state's population and then find the top 5 values and compute the percent of the total like this."
   ]
  },
  {
   "cell_type": "code",
   "execution_count": null,
   "metadata": {},
   "outputs": [],
   "source": [
    "def func1(s):\n",
    "    s = s.sort_values(ascending=False)\n",
    "    top5_total = s.iloc[:5].sum()\n",
    "    total = s.sum()\n",
    "    return top5_total / total"
   ]
  },
  {
   "cell_type": "code",
   "execution_count": null,
   "metadata": {},
   "outputs": [],
   "source": [
    "df = college.groupby('stabbr')['ugds'].apply(func1)\n",
    "df.head()"
   ]
  },
  {
   "cell_type": "markdown",
   "metadata": {},
   "source": [
    "## Do as much as you can outside of the custom function\n",
    "As a general rule, you should attempt to do as many operations outside the custom operation as possible. For instance, we can sort all the values just once instead of within each group. Let's compare this performance."
   ]
  },
  {
   "cell_type": "code",
   "execution_count": null,
   "metadata": {},
   "outputs": [],
   "source": [
    "df = college.sort_values('ugds', ascending=False)\n",
    "def func2(s):\n",
    "    top5_total = s.iloc[:5].sum()\n",
    "    total = s.sum()\n",
    "    return top5_total / total\n",
    "df.groupby('stabbr')['ugds'].apply(func2).head()"
   ]
  },
  {
   "cell_type": "markdown",
   "metadata": {},
   "source": [
    "### Time performance\n",
    "Nice performance boost."
   ]
  },
  {
   "cell_type": "code",
   "execution_count": null,
   "metadata": {},
   "outputs": [],
   "source": [
    "%timeit -n 5 college.groupby('stabbr')['ugds'].apply(func1)"
   ]
  },
  {
   "cell_type": "code",
   "execution_count": null,
   "metadata": {},
   "outputs": [],
   "source": [
    "%%timeit -n 5 \n",
    "df = college.sort_values('ugds', ascending=False)\n",
    "df.groupby('stabbr')['ugds'].apply(func2)"
   ]
  },
  {
   "cell_type": "markdown",
   "metadata": {},
   "source": [
    "### Remove function completely\n",
    "You can actually completely avoid using `apply` by first selecting the top 5 values for each state."
   ]
  },
  {
   "cell_type": "code",
   "execution_count": null,
   "metadata": {},
   "outputs": [],
   "source": [
    "df = college.sort_values('ugds', ascending=False)\n",
    "df_top5 = df.groupby('stabbr').head()"
   ]
  },
  {
   "cell_type": "markdown",
   "metadata": {},
   "source": [
    "We can then find the totals for each DataFrame and divide the result."
   ]
  },
  {
   "cell_type": "code",
   "execution_count": null,
   "metadata": {},
   "outputs": [],
   "source": [
    "top5_total = df_top5.groupby('stabbr').agg({'ugds': 'sum'})\n",
    "total = df.groupby('stabbr').agg({'ugds': 'sum'})\n",
    "df_final = top5_total / total\n",
    "df_final.head()"
   ]
  },
  {
   "cell_type": "markdown",
   "metadata": {},
   "source": [
    "Performance is now about 6x as fast as before."
   ]
  },
  {
   "cell_type": "code",
   "execution_count": null,
   "metadata": {},
   "outputs": [],
   "source": [
    "%%timeit -n 5 \n",
    "\n",
    "df = college.sort_values('ugds', ascending=False)\n",
    "df_top5 = df.groupby('stabbr').head()\n",
    "top5_total = df_top5.groupby('stabbr').agg({'ugds': 'sum'})\n",
    "total = df.groupby('stabbr').agg({'ugds': 'sum'})\n",
    "df_final = top5_total / total"
   ]
  }
 ],
 "metadata": {
  "kernelspec": {
   "display_name": "Python 3",
   "language": "python",
   "name": "python3"
  },
  "language_info": {
   "codemirror_mode": {
    "name": "ipython",
    "version": 3
   },
   "file_extension": ".py",
   "mimetype": "text/x-python",
   "name": "python",
   "nbconvert_exporter": "python",
   "pygments_lexer": "ipython3",
   "version": "3.6.7"
  }
 },
 "nbformat": 4,
 "nbformat_minor": 2
}
