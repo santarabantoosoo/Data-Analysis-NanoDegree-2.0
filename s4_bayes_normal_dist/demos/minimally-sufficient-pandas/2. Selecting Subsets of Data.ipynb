{
 "cells": [
  {
   "cell_type": "markdown",
   "metadata": {},
   "source": [
    "# 2. Selecting Subsets of Data"
   ]
  },
  {
   "cell_type": "markdown",
   "metadata": {},
   "source": [
    "## There should be one-- and preferably only one --obvious way to do it.\n",
    "This quote is from the \"Zen of Python\" by Tim Peters. Import the `this` module to have it printed to the screen."
   ]
  },
  {
   "cell_type": "code",
   "execution_count": 1,
   "metadata": {},
   "outputs": [
    {
     "name": "stdout",
     "output_type": "stream",
     "text": [
      "The Zen of Python, by Tim Peters\n",
      "\n",
      "Beautiful is better than ugly.\n",
      "Explicit is better than implicit.\n",
      "Simple is better than complex.\n",
      "Complex is better than complicated.\n",
      "Flat is better than nested.\n",
      "Sparse is better than dense.\n",
      "Readability counts.\n",
      "Special cases aren't special enough to break the rules.\n",
      "Although practicality beats purity.\n",
      "Errors should never pass silently.\n",
      "Unless explicitly silenced.\n",
      "In the face of ambiguity, refuse the temptation to guess.\n",
      "There should be one-- and preferably only one --obvious way to do it.\n",
      "Although that way may not be obvious at first unless you're Dutch.\n",
      "Now is better than never.\n",
      "Although never is often better than *right* now.\n",
      "If the implementation is hard to explain, it's a bad idea.\n",
      "If the implementation is easy to explain, it may be a good idea.\n",
      "Namespaces are one honking great idea -- let's do more of those!\n"
     ]
    }
   ],
   "source": [
    "import this"
   ]
  },
  {
   "cell_type": "markdown",
   "metadata": {},
   "source": [
    "### Pandas breaks this guideline a whole lot\n",
    "Pandas is perhaps an extreme example of a library that gives its users many different methods for completing the same task. This is not a good thing and leads to different users writing different code for the same task. Pandas is capable of doing many tasks and it is difficult to retain in your working memory all the possibilities. Restricting the number of ways to use the library will make you a more effective analyst.\n",
    "\n",
    "## Selecting Subsets of Data\n",
    "\n",
    "### Selecting a single column - brackets vs dot notation\n",
    "Pandas gives its users two methods to select a single column of data as a Series. You can place the name inside the brackets or you can use dot notation. Let's see this in action with some sample data."
   ]
  },
  {
   "cell_type": "code",
   "execution_count": 3,
   "metadata": {
    "ExecuteTime": {
     "end_time": "2021-10-13T19:56:52.420397Z",
     "start_time": "2021-10-13T19:56:52.348399Z"
    }
   },
   "outputs": [
    {
     "data": {
      "text/html": [
       "<div>\n",
       "<style scoped>\n",
       "    .dataframe tbody tr th:only-of-type {\n",
       "        vertical-align: middle;\n",
       "    }\n",
       "\n",
       "    .dataframe tbody tr th {\n",
       "        vertical-align: top;\n",
       "    }\n",
       "\n",
       "    .dataframe thead th {\n",
       "        text-align: right;\n",
       "    }\n",
       "</style>\n",
       "<table border=\"1\" class=\"dataframe\">\n",
       "  <thead>\n",
       "    <tr style=\"text-align: right;\">\n",
       "      <th></th>\n",
       "      <th>state</th>\n",
       "      <th>color</th>\n",
       "      <th>favorite food</th>\n",
       "      <th>age</th>\n",
       "      <th>height</th>\n",
       "      <th>score</th>\n",
       "      <th>count</th>\n",
       "    </tr>\n",
       "    <tr>\n",
       "      <th>name</th>\n",
       "      <th></th>\n",
       "      <th></th>\n",
       "      <th></th>\n",
       "      <th></th>\n",
       "      <th></th>\n",
       "      <th></th>\n",
       "      <th></th>\n",
       "    </tr>\n",
       "  </thead>\n",
       "  <tbody>\n",
       "    <tr>\n",
       "      <th>Jane</th>\n",
       "      <td>NY</td>\n",
       "      <td>blue</td>\n",
       "      <td>Steak</td>\n",
       "      <td>30</td>\n",
       "      <td>165</td>\n",
       "      <td>4.6</td>\n",
       "      <td>10</td>\n",
       "    </tr>\n",
       "    <tr>\n",
       "      <th>Niko</th>\n",
       "      <td>TX</td>\n",
       "      <td>green</td>\n",
       "      <td>Lamb</td>\n",
       "      <td>2</td>\n",
       "      <td>70</td>\n",
       "      <td>8.3</td>\n",
       "      <td>4</td>\n",
       "    </tr>\n",
       "    <tr>\n",
       "      <th>Aaron</th>\n",
       "      <td>FL</td>\n",
       "      <td>red</td>\n",
       "      <td>Mango</td>\n",
       "      <td>12</td>\n",
       "      <td>120</td>\n",
       "      <td>9.0</td>\n",
       "      <td>3</td>\n",
       "    </tr>\n",
       "    <tr>\n",
       "      <th>Penelope</th>\n",
       "      <td>AL</td>\n",
       "      <td>white</td>\n",
       "      <td>Apple</td>\n",
       "      <td>4</td>\n",
       "      <td>80</td>\n",
       "      <td>3.3</td>\n",
       "      <td>12</td>\n",
       "    </tr>\n",
       "    <tr>\n",
       "      <th>Dean</th>\n",
       "      <td>AK</td>\n",
       "      <td>gray</td>\n",
       "      <td>Cheese</td>\n",
       "      <td>32</td>\n",
       "      <td>180</td>\n",
       "      <td>1.8</td>\n",
       "      <td>8</td>\n",
       "    </tr>\n",
       "    <tr>\n",
       "      <th>Christina</th>\n",
       "      <td>TX</td>\n",
       "      <td>black</td>\n",
       "      <td>Melon</td>\n",
       "      <td>33</td>\n",
       "      <td>172</td>\n",
       "      <td>9.5</td>\n",
       "      <td>99</td>\n",
       "    </tr>\n",
       "    <tr>\n",
       "      <th>Cornelia</th>\n",
       "      <td>TX</td>\n",
       "      <td>red</td>\n",
       "      <td>Beans</td>\n",
       "      <td>69</td>\n",
       "      <td>150</td>\n",
       "      <td>2.2</td>\n",
       "      <td>44</td>\n",
       "    </tr>\n",
       "  </tbody>\n",
       "</table>\n",
       "</div>"
      ],
      "text/plain": [
       "          state  color favorite food  age  height  score  count\n",
       "name                                                           \n",
       "Jane         NY   blue         Steak   30     165    4.6     10\n",
       "Niko         TX  green          Lamb    2      70    8.3      4\n",
       "Aaron        FL    red         Mango   12     120    9.0      3\n",
       "Penelope     AL  white         Apple    4      80    3.3     12\n",
       "Dean         AK   gray        Cheese   32     180    1.8      8\n",
       "Christina    TX  black         Melon   33     172    9.5     99\n",
       "Cornelia     TX    red         Beans   69     150    2.2     44"
      ]
     },
     "execution_count": 3,
     "metadata": {},
     "output_type": "execute_result"
    }
   ],
   "source": [
    "import pandas as pd\n",
    "df = pd.read_csv('data/sample_data.csv', index_col=0)\n",
    "df"
   ]
  },
  {
   "cell_type": "markdown",
   "metadata": {},
   "source": [
    "### Select the state column\n",
    "Let's select the `state` column with both the brackets and dot notation."
   ]
  },
  {
   "cell_type": "code",
   "execution_count": 3,
   "metadata": {},
   "outputs": [
    {
     "data": {
      "text/plain": [
       "name\n",
       "Jane         NY\n",
       "Niko         TX\n",
       "Aaron        FL\n",
       "Penelope     AL\n",
       "Dean         AK\n",
       "Christina    TX\n",
       "Cornelia     TX\n",
       "Name: state, dtype: object"
      ]
     },
     "execution_count": 3,
     "metadata": {},
     "output_type": "execute_result"
    }
   ],
   "source": [
    "df['state']"
   ]
  },
  {
   "cell_type": "code",
   "execution_count": null,
   "metadata": {},
   "outputs": [],
   "source": [
    "df.state"
   ]
  },
  {
   "cell_type": "markdown",
   "metadata": {},
   "source": [
    "### Select the favorite food column\n",
    "This is only possible using the brackets as spaces would raise a syntax error with dot notation."
   ]
  },
  {
   "cell_type": "code",
   "execution_count": 4,
   "metadata": {
    "ExecuteTime": {
     "end_time": "2021-10-13T19:57:16.917163Z",
     "start_time": "2021-10-13T19:57:16.887159Z"
    }
   },
   "outputs": [
    {
     "data": {
      "text/plain": [
       "name\n",
       "Jane          Steak\n",
       "Niko           Lamb\n",
       "Aaron         Mango\n",
       "Penelope      Apple\n",
       "Dean         Cheese\n",
       "Christina     Melon\n",
       "Cornelia      Beans\n",
       "Name: favorite food, dtype: object"
      ]
     },
     "execution_count": 4,
     "metadata": {},
     "output_type": "execute_result"
    }
   ],
   "source": [
    "df['favorite food']"
   ]
  },
  {
   "cell_type": "code",
   "execution_count": 5,
   "metadata": {
    "ExecuteTime": {
     "end_time": "2021-10-13T19:57:20.796745Z",
     "start_time": "2021-10-13T19:57:20.770722Z"
    }
   },
   "outputs": [
    {
     "ename": "SyntaxError",
     "evalue": "invalid syntax (<ipython-input-5-d3097dad1f65>, line 1)",
     "output_type": "error",
     "traceback": [
      "\u001b[1;36m  File \u001b[1;32m\"<ipython-input-5-d3097dad1f65>\"\u001b[1;36m, line \u001b[1;32m1\u001b[0m\n\u001b[1;33m    df.favorite food\u001b[0m\n\u001b[1;37m                ^\u001b[0m\n\u001b[1;31mSyntaxError\u001b[0m\u001b[1;31m:\u001b[0m invalid syntax\n"
     ]
    }
   ],
   "source": [
    "df.favorite food"
   ]
  },
  {
   "cell_type": "markdown",
   "metadata": {},
   "source": [
    "### Select the `count` column\n",
    "This again only works with the brackets as `count` is a DataFrame method to count the non-missing values of each column."
   ]
  },
  {
   "cell_type": "code",
   "execution_count": 6,
   "metadata": {
    "ExecuteTime": {
     "end_time": "2021-10-13T19:57:26.420020Z",
     "start_time": "2021-10-13T19:57:26.393015Z"
    }
   },
   "outputs": [
    {
     "data": {
      "text/plain": [
       "name\n",
       "Jane         10\n",
       "Niko          4\n",
       "Aaron         3\n",
       "Penelope     12\n",
       "Dean          8\n",
       "Christina    99\n",
       "Cornelia     44\n",
       "Name: count, dtype: int64"
      ]
     },
     "execution_count": 6,
     "metadata": {},
     "output_type": "execute_result"
    }
   ],
   "source": [
    "df['count']"
   ]
  },
  {
   "cell_type": "code",
   "execution_count": 7,
   "metadata": {
    "ExecuteTime": {
     "end_time": "2021-10-13T19:57:28.785748Z",
     "start_time": "2021-10-13T19:57:28.735749Z"
    }
   },
   "outputs": [
    {
     "data": {
      "text/plain": [
       "<bound method DataFrame.count of           state  color favorite food  age  height  score  count\n",
       "name                                                           \n",
       "Jane         NY   blue         Steak   30     165    4.6     10\n",
       "Niko         TX  green          Lamb    2      70    8.3      4\n",
       "Aaron        FL    red         Mango   12     120    9.0      3\n",
       "Penelope     AL  white         Apple    4      80    3.3     12\n",
       "Dean         AK   gray        Cheese   32     180    1.8      8\n",
       "Christina    TX  black         Melon   33     172    9.5     99\n",
       "Cornelia     TX    red         Beans   69     150    2.2     44>"
      ]
     },
     "execution_count": 7,
     "metadata": {},
     "output_type": "execute_result"
    }
   ],
   "source": [
    "df.count"
   ]
  },
  {
   "cell_type": "code",
   "execution_count": 7,
   "metadata": {},
   "outputs": [
    {
     "name": "stdout",
     "output_type": "stream",
     "text": [
      "          state  color favorite food  age  height  score  count\n",
      "name                                                           \n",
      "Jane         NY   blue         Steak   30     165    4.6     10\n",
      "Niko         TX  green          Lamb    2      70    8.3      4\n",
      "Aaron        FL    red         Mango   12     120    9.0      3\n",
      "Penelope     AL  white         Apple    4      80    3.3     12\n",
      "Dean         AK   gray        Cheese   32     180    1.8      8\n",
      "Christina    TX  black         Melon   33     172    9.5     99\n",
      "Cornelia     TX    red         Beans   69     150    2.2     44\n"
     ]
    }
   ],
   "source": [
    "print(repr(df))"
   ]
  },
  {
   "cell_type": "code",
   "execution_count": 8,
   "metadata": {},
   "outputs": [
    {
     "data": {
      "text/plain": [
       "'          state  color favorite food  age  height  score  count\\nname                                                           \\nJane         NY   blue         Steak   30     165    4.6     10\\nNiko         TX  green          Lamb    2      70    8.3      4\\nAaron        FL    red         Mango   12     120    9.0      3\\nPenelope     AL  white         Apple    4      80    3.3     12\\nDean         AK   gray        Cheese   32     180    1.8      8\\nChristina    TX  black         Melon   33     172    9.5     99\\nCornelia     TX    red         Beans   69     150    2.2     44'"
      ]
     },
     "execution_count": 8,
     "metadata": {},
     "output_type": "execute_result"
    }
   ],
   "source": [
    "str(df)"
   ]
  },
  {
   "cell_type": "markdown",
   "metadata": {},
   "source": [
    "## Choose the method that always works\n",
    "Using the brackets and dot notation provide two different ways to select a single column of data. Dot notation does now work for columns with spaces or columns with the same name as DataFrame methods. The dot notation provides no additional functionality over the brackets and does not work in all situations. Therefore, I never use it. It's single advantage is three less key strokes.\n",
    "\n",
    "### Minimally  Sufficient Guiding Principle\n",
    "If a method does not provide any additional functionality over another method (i.e. its functionality is a subset of another) then it shouldn't be used. Methods should only be considered if they have some additional, unique functionality.\n",
    "\n",
    "**Guidance** - Only use the brackets when selecting a single column of data."
   ]
  },
  {
   "cell_type": "markdown",
   "metadata": {},
   "source": [
    "## Select multiple columns\n",
    "Selecting multiple columns is done with the brackets. Pass in all the columns you want to select as a list. Here we select state, age, and color."
   ]
  },
  {
   "cell_type": "code",
   "execution_count": null,
   "metadata": {},
   "outputs": [],
   "source": [
    "df[['state', 'age', 'color']]"
   ]
  },
  {
   "cell_type": "markdown",
   "metadata": {},
   "source": [
    "### For clarity, consider creating a list first\n",
    "A common mistake made when selecting multiple columns is to forget to put the columns within a list and write the following which would be an error: `df['state', 'age', 'color']`. For clarity, you can consider creating a list first and then making the selection in a second line."
   ]
  },
  {
   "cell_type": "code",
   "execution_count": null,
   "metadata": {},
   "outputs": [],
   "source": [
    "cols = ['state', 'age', 'color']\n",
    "df[cols]"
   ]
  },
  {
   "cell_type": "markdown",
   "metadata": {},
   "source": [
    "## Selecting Rows and Columns Simultaneously with `loc` and `iloc`\n",
    "\n",
    "Rows and columns in a Pandas DataFrame can be referenced in two ways - by either **label** or **integer location**. This dual reference is one of the reasons that subset selection is confusing for beginners. Pandas provides the indexers `loc` to handle selection by label and `iloc` for selection by integer location. Both are capable of simultaneously selecting rows and columns.\n",
    "\n",
    "Let's select by label with `loc` the rows for Niko and Dean along with the columns age, favorite food and score. We create two separate lists for clarity."
   ]
  },
  {
   "cell_type": "code",
   "execution_count": null,
   "metadata": {},
   "outputs": [],
   "source": [
    "rows = ['Niko', 'Dean']\n",
    "cols = ['age', 'favorite food', 'score']\n",
    "df.loc[rows, cols]"
   ]
  },
  {
   "cell_type": "markdown",
   "metadata": {},
   "source": [
    "Now let's select by integer location with `iloc` the rows 1, 2, and 5 and the columns 0 and 4."
   ]
  },
  {
   "cell_type": "code",
   "execution_count": null,
   "metadata": {},
   "outputs": [],
   "source": [
    "rows = [1, 2, 5]\n",
    "cols = [0, 4]\n",
    "df.iloc[rows, cols]"
   ]
  },
  {
   "cell_type": "markdown",
   "metadata": {},
   "source": [
    "## The deprecated `ix` indexer - never use it\n",
    "\n",
    "The `ix` indexer was created before `loc` or `iloc` and was able to select data by both label and integer location. Although it was versatile, it was ambiguous as labels can be integers as well as strings. Because of this ambiguity, the `loc` and `iloc` indexers were created which are explicit. \n",
    "\n",
    "**GUIDANCE** - Every trace of `ix` should be removed and replaced with `loc` or `iloc`. \n",
    "\n",
    "### What happens if you need to select by both integer location and label simultaneously\n",
    "It's very rare that you will need to select by both integer location and label simultaneously. Let's see an example. If you are selecting rows 1, 2, and 5 along with columns age, favorite food and score you can call one indexer after another. This is called chained indexing and should be avoided at all costs."
   ]
  },
  {
   "cell_type": "code",
   "execution_count": null,
   "metadata": {},
   "outputs": [],
   "source": [
    "rows = [1, 2, 5]\n",
    "cols = ['age', 'favorite food', 'score']\n",
    "df.iloc[rows, :].loc[:, cols]"
   ]
  },
  {
   "cell_type": "markdown",
   "metadata": {},
   "source": [
    "### Selecting with `at` and `iat` \n",
    "Two additional indexers, `at` and `iat`, exist that select a single cell of a DataFrame. These provide a slight performance advantage over their analogous `loc` and `iloc` indexers. But, they introduce the additional burden of having to remember what they do. Also, for most data analysis, the increase in performance isn't useful at all unless it's being done at scale. And if performance truly is an issue, then you place your data in NumPy arrays and use it directly."
   ]
  },
  {
   "cell_type": "code",
   "execution_count": 9,
   "metadata": {},
   "outputs": [],
   "source": [
    "import numpy as np"
   ]
  },
  {
   "cell_type": "code",
   "execution_count": 10,
   "metadata": {},
   "outputs": [],
   "source": [
    "a = np.random.rand(10 ** 5, 5)\n",
    "df1 = pd.DataFrame(a)"
   ]
  },
  {
   "cell_type": "code",
   "execution_count": 11,
   "metadata": {},
   "outputs": [],
   "source": [
    "row = 50000\n",
    "col = 3"
   ]
  },
  {
   "cell_type": "code",
   "execution_count": 13,
   "metadata": {},
   "outputs": [
    {
     "name": "stdout",
     "output_type": "stream",
     "text": [
      "13.8 µs ± 3.36 µs per loop (mean ± std. dev. of 7 runs, 100000 loops each)\n"
     ]
    }
   ],
   "source": [
    "%timeit df1.iloc[row, col]"
   ]
  },
  {
   "cell_type": "code",
   "execution_count": 14,
   "metadata": {},
   "outputs": [
    {
     "name": "stdout",
     "output_type": "stream",
     "text": [
      "7.36 µs ± 927 ns per loop (mean ± std. dev. of 7 runs, 100000 loops each)\n"
     ]
    }
   ],
   "source": [
    "%timeit df1.iat[row, col]"
   ]
  },
  {
   "cell_type": "code",
   "execution_count": 15,
   "metadata": {},
   "outputs": [
    {
     "name": "stdout",
     "output_type": "stream",
     "text": [
      "232 ns ± 8.72 ns per loop (mean ± std. dev. of 7 runs, 1000000 loops each)\n"
     ]
    }
   ],
   "source": [
    "%timeit a[row, col]"
   ]
  },
  {
   "cell_type": "code",
   "execution_count": 16,
   "metadata": {},
   "outputs": [
    {
     "data": {
      "text/plain": [
       "59.48275862068966"
      ]
     },
     "execution_count": 16,
     "metadata": {},
     "output_type": "execute_result"
    }
   ],
   "source": [
    "13800 / 232"
   ]
  },
  {
   "cell_type": "markdown",
   "metadata": {},
   "source": [
    "**GUIDANCE** - There really is no need to use `at` and `iat`. If you do need better performance, use the underlying NumPy array."
   ]
  }
 ],
 "metadata": {
  "kernelspec": {
   "display_name": "Python 3",
   "language": "python",
   "name": "python3"
  },
  "language_info": {
   "codemirror_mode": {
    "name": "ipython",
    "version": 3
   },
   "file_extension": ".py",
   "mimetype": "text/x-python",
   "name": "python",
   "nbconvert_exporter": "python",
   "pygments_lexer": "ipython3",
   "version": "3.8.5"
  },
  "toc": {
   "base_numbering": 1,
   "nav_menu": {},
   "number_sections": true,
   "sideBar": true,
   "skip_h1_title": false,
   "title_cell": "Table of Contents",
   "title_sidebar": "Contents",
   "toc_cell": false,
   "toc_position": {},
   "toc_section_display": true,
   "toc_window_display": false
  },
  "varInspector": {
   "cols": {
    "lenName": 16,
    "lenType": 16,
    "lenVar": 40
   },
   "kernels_config": {
    "python": {
     "delete_cmd_postfix": "",
     "delete_cmd_prefix": "del ",
     "library": "var_list.py",
     "varRefreshCmd": "print(var_dic_list())"
    },
    "r": {
     "delete_cmd_postfix": ") ",
     "delete_cmd_prefix": "rm(",
     "library": "var_list.r",
     "varRefreshCmd": "cat(var_dic_list()) "
    }
   },
   "types_to_exclude": [
    "module",
    "function",
    "builtin_function_or_method",
    "instance",
    "_Feature"
   ],
   "window_display": false
  }
 },
 "nbformat": 4,
 "nbformat_minor": 2
}
