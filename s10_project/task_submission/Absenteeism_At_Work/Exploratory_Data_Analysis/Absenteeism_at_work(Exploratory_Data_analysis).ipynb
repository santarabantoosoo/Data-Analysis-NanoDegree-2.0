{
 "cells": [
  {
   "cell_type": "markdown",
   "metadata": {},
   "source": [
    "# Project: Absenteeism_at_work\n",
    "\n",
    "## Table of Contents\n",
    "<ul>\n",
    "<li><a href=\"#intro\">Introduction</a></li>\n",
    "<li><a href=\"#wrangling\">Data Wrangling</a></li> \n",
    "<li><a href=\"#eda\">Exploratory Data Analysis</a></li>\n",
    "<li><a href=\"#linreg\">Linear Regression Models</a></li>\n",
    "<li><a href=\"#logreg\">Logestic Regression Models</a></li>\n",
    "<li><a href=\"#conclusions\">Conclusions</a></li>\n",
    "</ul>"
   ]
  },
  {
   "cell_type": "markdown",
   "metadata": {},
   "source": [
    "<a id='intro'></a>\n",
    "## Introduction\n",
    "\n",
    "> **Descriptions:** This dataset was created with records of absence at work from July 2007 to July 2010 at a courier company in Brazil.\n",
    "\n",
    "\n",
    " **Dataset columns description:**\n",
    "\n",
    "- **Individual identification (ID)**:the unique identifier for each employee.\n",
    "- **Reason for absence (ICD)**: \n",
    "> **Absences attested by the International Code of Diseases (ICD) stratified into 21 categories (I to XXI) as follows:**\n",
    "   > * (0) Ther is no absence.  \n",
    "   > * (1) Certain infectious and parasitic diseases  \n",
    "   > * (2) Neoplasms  \n",
    "   > * (2) Diseases of the blood and blood-forming organs and certain disorders involving the immune mechanism        > * (4) Endocrine, nutritional and metabolic diseases  \n",
    "   > * (5) Mental and behavioural disorders  \n",
    "   > * (6) Diseases of the nervous system  \n",
    "   > * (7) Diseases of the eye and adnexa  \n",
    "   > * (8) Diseases of the ear and mastoid process  \n",
    "   > * (9) Diseases of the circulatory system  \n",
    "   > * (10) Diseases of the respiratory system  \n",
    "   > * (11) Diseases of the digestive system  \n",
    "   > * (12) Diseases of the skin and subcutaneous tissue  \n",
    "   > * (13) Diseases of the musculoskeletal system and connective tissue  \n",
    "   > * (14) Diseases of the genitourinary system  \n",
    "   > * (15) Pregnancy, childbirth and the puerperium   \n",
    "   > * (16) Certain conditions originating in the perinatal period  \n",
    "   > * (17) Congenital malformations, deformations and chromosomal abnormalities  \n",
    "   > * (18) Symptoms, signs and abnormal clinical and laboratory findings, not elsewhere classified  \n",
    "   > * (19) Injury, poisoning and certain other consequences of external causes  \n",
    "   > * (20) External causes of morbidity and mortality  \n",
    "   > * (21) Factors influencing health status and contact with health services.\n",
    "   > * (22) Factors influencing health status and contact with health services.\n",
    "   \n",
    "    > **And 7 categories without (CID) patient follow-up as follows:**\n",
    "\n",
    "   > * (23) blood donation.\n",
    "   > * (24) aboratory examination.\n",
    "   > * (25) unjustified absence.\n",
    "   > * (26) physiotherapy.\n",
    "   > * (27) dental consultation.\n",
    "   > * (28) Month of absence.\n",
    "\n",
    "    \n",
    "    \n",
    "- **Month of absence**: (Jan (1), Feb (2), Mar (3) ... ect)\n",
    "- **Day of the week**: (Monday (2), Tuesday (3), Wednesday (4), Thursday (5), Friday (6))\n",
    "- **Seasons**: (summer (1), autumn (2), winter (3), spring (4)) \n",
    "- **Transportation expense**.\n",
    "- **Distance from Residence to Work**: (kilometers)\n",
    "- **Service time**.\n",
    "- **Age**.\n",
    "- **Work load Average/day**.\n",
    "- **Hit target**.\n",
    "- **Disciplinary failure**: (yes=1; no=0)\n",
    "- **Education**: (high school (1), graduate (2), postgraduate (3), master and doctor (4))\n",
    "- **Son**: (number of children)\n",
    "- **Social drinker**: (yes=1; no=0)\n",
    "- **Social  smoker**: (yes=1; no=0)\n",
    "- **Pet**: (number of pet)\n",
    "- **Weight**.\n",
    "- **Height**.\n",
    "- **Body mass index**.\n",
    "- **Absenteeism time in hours**.\n",
    "\n",
    "\n",
    " **Source:**\n",
    "\n",
    "Creators original owner and donors: Andrea Martiniano (1), Ricardo Pinto Ferreira (2), and Renato Jose Sassi (3).\n",
    "\n",
    "E-mail address: \n",
    "andrea.martiniano'@'gmail.com (1) - PhD student;\n",
    "log.kasparov'@'gmail.com (2) - PhD student;\n",
    "sassi'@'uni9.pro.br (3) - Prof. Doctor.\n",
    "\n",
    "Universidade Nove de Julho - Postgraduate Program in Informatics and Knowledge Management.\n",
    "\n",
    "Address: Rua Vergueiro, 235/249 Liberdade, Sao Paulo, SP, Brazil. Zip code: 01504-001.\n",
    "\n",
    "Website: http://www.uninove.br/curso/informatica-e-gestao-do-conhecimento/\n",
    "\n"
   ]
  },
  {
   "cell_type": "markdown",
   "metadata": {},
   "source": [
    "\n",
    "## **Questions:**\n",
    "\n",
    "\n",
    "1.  What is the most frequent reason for absences?\n",
    "2.  Which absence reasons have higher rate medical or non medical reasons?  \n",
    "3.  Who are the best employees and the worst employees compared by total absence hours?\n",
    "4.  Which month and day have the higher total absence hours?\n",
    "5.  Which variables have strong correlation with absence hours?   \n",
    "6.  Which variables are statistically significant to predict absence and total absence hours? (Regression models)\n",
    "      "
   ]
  },
  {
   "cell_type": "markdown",
   "metadata": {},
   "source": [
    "### importing libraries that will be used to investigate Dataset"
   ]
  },
  {
   "cell_type": "code",
   "execution_count": 1,
   "metadata": {},
   "outputs": [],
   "source": [
    "import pandas as pd \n",
    "import numpy as np\n",
    "import matplotlib.pyplot as plt\n",
    "%matplotlib inline\n",
    "import seaborn as sns\n",
    "import datetime\n",
    "import statsmodels.formula.api as smf\n",
    "from sklearn.linear_model import LogisticRegression\n",
    "from sklearn.model_selection import train_test_split "
   ]
  },
  {
   "cell_type": "markdown",
   "metadata": {},
   "source": [
    "<a id='wrangling'></a>\n",
    "## Data Wrangling\n",
    "\n",
    " **This is a three step process:**\n",
    "\n",
    "*  Gathering the data from Dataset and investegate it trying to understand more details about it. \n",
    "\n",
    "\n",
    "*  Assessing data to identify any issues with data types, structure, or quality.\n",
    "\n",
    "\n",
    "*  Cleaning data by changing data types, replacing values, removing unnecessary data and modifying Dataset for easy and fast analysis.\n"
   ]
  },
  {
   "cell_type": "markdown",
   "metadata": {},
   "source": [
    "### Gathering Data"
   ]
  },
  {
   "cell_type": "code",
   "execution_count": 108,
   "metadata": {},
   "outputs": [],
   "source": [
    "# loading CSV file into 3 Dataframe //df\n",
    "\n",
    "df = pd.read_csv(\"Absenteeism_at_work.csv\", sep=\";\")"
   ]
  },
  {
   "cell_type": "code",
   "execution_count": 109,
   "metadata": {},
   "outputs": [
    {
     "data": {
      "text/html": [
       "<div>\n",
       "<style scoped>\n",
       "    .dataframe tbody tr th:only-of-type {\n",
       "        vertical-align: middle;\n",
       "    }\n",
       "\n",
       "    .dataframe tbody tr th {\n",
       "        vertical-align: top;\n",
       "    }\n",
       "\n",
       "    .dataframe thead th {\n",
       "        text-align: right;\n",
       "    }\n",
       "</style>\n",
       "<table border=\"1\" class=\"dataframe\">\n",
       "  <thead>\n",
       "    <tr style=\"text-align: right;\">\n",
       "      <th></th>\n",
       "      <th>ID</th>\n",
       "      <th>Reason for absence</th>\n",
       "      <th>Month of absence</th>\n",
       "      <th>Day of the week</th>\n",
       "      <th>Seasons</th>\n",
       "      <th>Transportation expense</th>\n",
       "      <th>Distance from Residence to Work</th>\n",
       "      <th>Service time</th>\n",
       "      <th>Age</th>\n",
       "      <th>Work load Average/day</th>\n",
       "      <th>...</th>\n",
       "      <th>Disciplinary failure</th>\n",
       "      <th>Education</th>\n",
       "      <th>Son</th>\n",
       "      <th>Social drinker</th>\n",
       "      <th>Social smoker</th>\n",
       "      <th>Pet</th>\n",
       "      <th>Weight</th>\n",
       "      <th>Height</th>\n",
       "      <th>Body mass index</th>\n",
       "      <th>Absenteeism time in hours</th>\n",
       "    </tr>\n",
       "  </thead>\n",
       "  <tbody>\n",
       "    <tr>\n",
       "      <th>0</th>\n",
       "      <td>11</td>\n",
       "      <td>26</td>\n",
       "      <td>7</td>\n",
       "      <td>3</td>\n",
       "      <td>1</td>\n",
       "      <td>289</td>\n",
       "      <td>36</td>\n",
       "      <td>13</td>\n",
       "      <td>33</td>\n",
       "      <td>239.554</td>\n",
       "      <td>...</td>\n",
       "      <td>0</td>\n",
       "      <td>1</td>\n",
       "      <td>2</td>\n",
       "      <td>1</td>\n",
       "      <td>0</td>\n",
       "      <td>1</td>\n",
       "      <td>90</td>\n",
       "      <td>172</td>\n",
       "      <td>30</td>\n",
       "      <td>4</td>\n",
       "    </tr>\n",
       "    <tr>\n",
       "      <th>1</th>\n",
       "      <td>36</td>\n",
       "      <td>0</td>\n",
       "      <td>7</td>\n",
       "      <td>3</td>\n",
       "      <td>1</td>\n",
       "      <td>118</td>\n",
       "      <td>13</td>\n",
       "      <td>18</td>\n",
       "      <td>50</td>\n",
       "      <td>239.554</td>\n",
       "      <td>...</td>\n",
       "      <td>1</td>\n",
       "      <td>1</td>\n",
       "      <td>1</td>\n",
       "      <td>1</td>\n",
       "      <td>0</td>\n",
       "      <td>0</td>\n",
       "      <td>98</td>\n",
       "      <td>178</td>\n",
       "      <td>31</td>\n",
       "      <td>0</td>\n",
       "    </tr>\n",
       "    <tr>\n",
       "      <th>2</th>\n",
       "      <td>3</td>\n",
       "      <td>23</td>\n",
       "      <td>7</td>\n",
       "      <td>4</td>\n",
       "      <td>1</td>\n",
       "      <td>179</td>\n",
       "      <td>51</td>\n",
       "      <td>18</td>\n",
       "      <td>38</td>\n",
       "      <td>239.554</td>\n",
       "      <td>...</td>\n",
       "      <td>0</td>\n",
       "      <td>1</td>\n",
       "      <td>0</td>\n",
       "      <td>1</td>\n",
       "      <td>0</td>\n",
       "      <td>0</td>\n",
       "      <td>89</td>\n",
       "      <td>170</td>\n",
       "      <td>31</td>\n",
       "      <td>2</td>\n",
       "    </tr>\n",
       "    <tr>\n",
       "      <th>3</th>\n",
       "      <td>7</td>\n",
       "      <td>7</td>\n",
       "      <td>7</td>\n",
       "      <td>5</td>\n",
       "      <td>1</td>\n",
       "      <td>279</td>\n",
       "      <td>5</td>\n",
       "      <td>14</td>\n",
       "      <td>39</td>\n",
       "      <td>239.554</td>\n",
       "      <td>...</td>\n",
       "      <td>0</td>\n",
       "      <td>1</td>\n",
       "      <td>2</td>\n",
       "      <td>1</td>\n",
       "      <td>1</td>\n",
       "      <td>0</td>\n",
       "      <td>68</td>\n",
       "      <td>168</td>\n",
       "      <td>24</td>\n",
       "      <td>4</td>\n",
       "    </tr>\n",
       "    <tr>\n",
       "      <th>4</th>\n",
       "      <td>11</td>\n",
       "      <td>23</td>\n",
       "      <td>7</td>\n",
       "      <td>5</td>\n",
       "      <td>1</td>\n",
       "      <td>289</td>\n",
       "      <td>36</td>\n",
       "      <td>13</td>\n",
       "      <td>33</td>\n",
       "      <td>239.554</td>\n",
       "      <td>...</td>\n",
       "      <td>0</td>\n",
       "      <td>1</td>\n",
       "      <td>2</td>\n",
       "      <td>1</td>\n",
       "      <td>0</td>\n",
       "      <td>1</td>\n",
       "      <td>90</td>\n",
       "      <td>172</td>\n",
       "      <td>30</td>\n",
       "      <td>2</td>\n",
       "    </tr>\n",
       "  </tbody>\n",
       "</table>\n",
       "<p>5 rows × 21 columns</p>\n",
       "</div>"
      ],
      "text/plain": [
       "   ID  Reason for absence  Month of absence  Day of the week  Seasons  \\\n",
       "0  11                  26                 7                3        1   \n",
       "1  36                   0                 7                3        1   \n",
       "2   3                  23                 7                4        1   \n",
       "3   7                   7                 7                5        1   \n",
       "4  11                  23                 7                5        1   \n",
       "\n",
       "   Transportation expense  Distance from Residence to Work  Service time  Age  \\\n",
       "0                     289                               36            13   33   \n",
       "1                     118                               13            18   50   \n",
       "2                     179                               51            18   38   \n",
       "3                     279                                5            14   39   \n",
       "4                     289                               36            13   33   \n",
       "\n",
       "   Work load Average/day   ...  Disciplinary failure  Education  Son  \\\n",
       "0                 239.554  ...                     0          1    2   \n",
       "1                 239.554  ...                     1          1    1   \n",
       "2                 239.554  ...                     0          1    0   \n",
       "3                 239.554  ...                     0          1    2   \n",
       "4                 239.554  ...                     0          1    2   \n",
       "\n",
       "   Social drinker  Social smoker  Pet  Weight  Height  Body mass index  \\\n",
       "0               1              0    1      90     172               30   \n",
       "1               1              0    0      98     178               31   \n",
       "2               1              0    0      89     170               31   \n",
       "3               1              1    0      68     168               24   \n",
       "4               1              0    1      90     172               30   \n",
       "\n",
       "   Absenteeism time in hours  \n",
       "0                          4  \n",
       "1                          0  \n",
       "2                          2  \n",
       "3                          4  \n",
       "4                          2  \n",
       "\n",
       "[5 rows x 21 columns]"
      ]
     },
     "execution_count": 109,
     "metadata": {},
     "output_type": "execute_result"
    }
   ],
   "source": [
    "#checking 5 rows sample from Dataframes\n",
    "\n",
    "df.head()"
   ]
  },
  {
   "cell_type": "markdown",
   "metadata": {},
   "source": [
    "### Assessing Data"
   ]
  },
  {
   "cell_type": "code",
   "execution_count": 110,
   "metadata": {},
   "outputs": [
    {
     "name": "stdout",
     "output_type": "stream",
     "text": [
      "<class 'pandas.core.frame.DataFrame'>\n",
      "RangeIndex: 740 entries, 0 to 739\n",
      "Data columns (total 21 columns):\n",
      " #   Column                           Non-Null Count  Dtype  \n",
      "---  ------                           --------------  -----  \n",
      " 0   ID                               740 non-null    int64  \n",
      " 1   Reason for absence               740 non-null    int64  \n",
      " 2   Month of absence                 740 non-null    int64  \n",
      " 3   Day of the week                  740 non-null    int64  \n",
      " 4   Seasons                          740 non-null    int64  \n",
      " 5   Transportation expense           740 non-null    int64  \n",
      " 6   Distance from Residence to Work  740 non-null    int64  \n",
      " 7   Service time                     740 non-null    int64  \n",
      " 8   Age                              740 non-null    int64  \n",
      " 9   Work load Average/day            740 non-null    float64\n",
      " 10  Hit target                       740 non-null    int64  \n",
      " 11  Disciplinary failure             740 non-null    int64  \n",
      " 12  Education                        740 non-null    int64  \n",
      " 13  Son                              740 non-null    int64  \n",
      " 14  Social drinker                   740 non-null    int64  \n",
      " 15  Social smoker                    740 non-null    int64  \n",
      " 16  Pet                              740 non-null    int64  \n",
      " 17  Weight                           740 non-null    int64  \n",
      " 18  Height                           740 non-null    int64  \n",
      " 19  Body mass index                  740 non-null    int64  \n",
      " 20  Absenteeism time in hours        740 non-null    int64  \n",
      "dtypes: float64(1), int64(20)\n",
      "memory usage: 121.5 KB\n"
     ]
    }
   ],
   "source": [
    "#checking Dataframe basic informations (columns names, number of values, data types ......)\n",
    "\n",
    "df.info()"
   ]
  },
  {
   "cell_type": "code",
   "execution_count": 111,
   "metadata": {},
   "outputs": [
    {
     "data": {
      "text/plain": [
       "(740, 21)"
      ]
     },
     "execution_count": 111,
     "metadata": {},
     "output_type": "execute_result"
    }
   ],
   "source": [
    "#checking Dataframe shape (number of rows and columns)\n",
    "\n",
    "df.shape"
   ]
  },
  {
   "cell_type": "code",
   "execution_count": 112,
   "metadata": {},
   "outputs": [
    {
     "data": {
      "text/html": [
       "<div>\n",
       "<style scoped>\n",
       "    .dataframe tbody tr th:only-of-type {\n",
       "        vertical-align: middle;\n",
       "    }\n",
       "\n",
       "    .dataframe tbody tr th {\n",
       "        vertical-align: top;\n",
       "    }\n",
       "\n",
       "    .dataframe thead th {\n",
       "        text-align: right;\n",
       "    }\n",
       "</style>\n",
       "<table border=\"1\" class=\"dataframe\">\n",
       "  <thead>\n",
       "    <tr style=\"text-align: right;\">\n",
       "      <th></th>\n",
       "      <th>ID</th>\n",
       "      <th>Reason for absence</th>\n",
       "      <th>Month of absence</th>\n",
       "      <th>Day of the week</th>\n",
       "      <th>Seasons</th>\n",
       "      <th>Transportation expense</th>\n",
       "      <th>Distance from Residence to Work</th>\n",
       "      <th>Service time</th>\n",
       "      <th>Age</th>\n",
       "      <th>Work load Average/day</th>\n",
       "      <th>...</th>\n",
       "      <th>Disciplinary failure</th>\n",
       "      <th>Education</th>\n",
       "      <th>Son</th>\n",
       "      <th>Social drinker</th>\n",
       "      <th>Social smoker</th>\n",
       "      <th>Pet</th>\n",
       "      <th>Weight</th>\n",
       "      <th>Height</th>\n",
       "      <th>Body mass index</th>\n",
       "      <th>Absenteeism time in hours</th>\n",
       "    </tr>\n",
       "  </thead>\n",
       "  <tbody>\n",
       "    <tr>\n",
       "      <th>count</th>\n",
       "      <td>740.000000</td>\n",
       "      <td>740.000000</td>\n",
       "      <td>740.000000</td>\n",
       "      <td>740.000000</td>\n",
       "      <td>740.000000</td>\n",
       "      <td>740.000000</td>\n",
       "      <td>740.000000</td>\n",
       "      <td>740.000000</td>\n",
       "      <td>740.000000</td>\n",
       "      <td>740.000000</td>\n",
       "      <td>...</td>\n",
       "      <td>740.000000</td>\n",
       "      <td>740.000000</td>\n",
       "      <td>740.000000</td>\n",
       "      <td>740.000000</td>\n",
       "      <td>740.000000</td>\n",
       "      <td>740.000000</td>\n",
       "      <td>740.000000</td>\n",
       "      <td>740.000000</td>\n",
       "      <td>740.000000</td>\n",
       "      <td>740.000000</td>\n",
       "    </tr>\n",
       "    <tr>\n",
       "      <th>mean</th>\n",
       "      <td>18.017568</td>\n",
       "      <td>19.216216</td>\n",
       "      <td>6.324324</td>\n",
       "      <td>3.914865</td>\n",
       "      <td>2.544595</td>\n",
       "      <td>221.329730</td>\n",
       "      <td>29.631081</td>\n",
       "      <td>12.554054</td>\n",
       "      <td>36.450000</td>\n",
       "      <td>271.490235</td>\n",
       "      <td>...</td>\n",
       "      <td>0.054054</td>\n",
       "      <td>1.291892</td>\n",
       "      <td>1.018919</td>\n",
       "      <td>0.567568</td>\n",
       "      <td>0.072973</td>\n",
       "      <td>0.745946</td>\n",
       "      <td>79.035135</td>\n",
       "      <td>172.114865</td>\n",
       "      <td>26.677027</td>\n",
       "      <td>6.924324</td>\n",
       "    </tr>\n",
       "    <tr>\n",
       "      <th>std</th>\n",
       "      <td>11.021247</td>\n",
       "      <td>8.433406</td>\n",
       "      <td>3.436287</td>\n",
       "      <td>1.421675</td>\n",
       "      <td>1.111831</td>\n",
       "      <td>66.952223</td>\n",
       "      <td>14.836788</td>\n",
       "      <td>4.384873</td>\n",
       "      <td>6.478772</td>\n",
       "      <td>39.058116</td>\n",
       "      <td>...</td>\n",
       "      <td>0.226277</td>\n",
       "      <td>0.673238</td>\n",
       "      <td>1.098489</td>\n",
       "      <td>0.495749</td>\n",
       "      <td>0.260268</td>\n",
       "      <td>1.318258</td>\n",
       "      <td>12.883211</td>\n",
       "      <td>6.034995</td>\n",
       "      <td>4.285452</td>\n",
       "      <td>13.330998</td>\n",
       "    </tr>\n",
       "    <tr>\n",
       "      <th>min</th>\n",
       "      <td>1.000000</td>\n",
       "      <td>0.000000</td>\n",
       "      <td>0.000000</td>\n",
       "      <td>2.000000</td>\n",
       "      <td>1.000000</td>\n",
       "      <td>118.000000</td>\n",
       "      <td>5.000000</td>\n",
       "      <td>1.000000</td>\n",
       "      <td>27.000000</td>\n",
       "      <td>205.917000</td>\n",
       "      <td>...</td>\n",
       "      <td>0.000000</td>\n",
       "      <td>1.000000</td>\n",
       "      <td>0.000000</td>\n",
       "      <td>0.000000</td>\n",
       "      <td>0.000000</td>\n",
       "      <td>0.000000</td>\n",
       "      <td>56.000000</td>\n",
       "      <td>163.000000</td>\n",
       "      <td>19.000000</td>\n",
       "      <td>0.000000</td>\n",
       "    </tr>\n",
       "    <tr>\n",
       "      <th>25%</th>\n",
       "      <td>9.000000</td>\n",
       "      <td>13.000000</td>\n",
       "      <td>3.000000</td>\n",
       "      <td>3.000000</td>\n",
       "      <td>2.000000</td>\n",
       "      <td>179.000000</td>\n",
       "      <td>16.000000</td>\n",
       "      <td>9.000000</td>\n",
       "      <td>31.000000</td>\n",
       "      <td>244.387000</td>\n",
       "      <td>...</td>\n",
       "      <td>0.000000</td>\n",
       "      <td>1.000000</td>\n",
       "      <td>0.000000</td>\n",
       "      <td>0.000000</td>\n",
       "      <td>0.000000</td>\n",
       "      <td>0.000000</td>\n",
       "      <td>69.000000</td>\n",
       "      <td>169.000000</td>\n",
       "      <td>24.000000</td>\n",
       "      <td>2.000000</td>\n",
       "    </tr>\n",
       "    <tr>\n",
       "      <th>50%</th>\n",
       "      <td>18.000000</td>\n",
       "      <td>23.000000</td>\n",
       "      <td>6.000000</td>\n",
       "      <td>4.000000</td>\n",
       "      <td>3.000000</td>\n",
       "      <td>225.000000</td>\n",
       "      <td>26.000000</td>\n",
       "      <td>13.000000</td>\n",
       "      <td>37.000000</td>\n",
       "      <td>264.249000</td>\n",
       "      <td>...</td>\n",
       "      <td>0.000000</td>\n",
       "      <td>1.000000</td>\n",
       "      <td>1.000000</td>\n",
       "      <td>1.000000</td>\n",
       "      <td>0.000000</td>\n",
       "      <td>0.000000</td>\n",
       "      <td>83.000000</td>\n",
       "      <td>170.000000</td>\n",
       "      <td>25.000000</td>\n",
       "      <td>3.000000</td>\n",
       "    </tr>\n",
       "    <tr>\n",
       "      <th>75%</th>\n",
       "      <td>28.000000</td>\n",
       "      <td>26.000000</td>\n",
       "      <td>9.000000</td>\n",
       "      <td>5.000000</td>\n",
       "      <td>4.000000</td>\n",
       "      <td>260.000000</td>\n",
       "      <td>50.000000</td>\n",
       "      <td>16.000000</td>\n",
       "      <td>40.000000</td>\n",
       "      <td>294.217000</td>\n",
       "      <td>...</td>\n",
       "      <td>0.000000</td>\n",
       "      <td>1.000000</td>\n",
       "      <td>2.000000</td>\n",
       "      <td>1.000000</td>\n",
       "      <td>0.000000</td>\n",
       "      <td>1.000000</td>\n",
       "      <td>89.000000</td>\n",
       "      <td>172.000000</td>\n",
       "      <td>31.000000</td>\n",
       "      <td>8.000000</td>\n",
       "    </tr>\n",
       "    <tr>\n",
       "      <th>max</th>\n",
       "      <td>36.000000</td>\n",
       "      <td>28.000000</td>\n",
       "      <td>12.000000</td>\n",
       "      <td>6.000000</td>\n",
       "      <td>4.000000</td>\n",
       "      <td>388.000000</td>\n",
       "      <td>52.000000</td>\n",
       "      <td>29.000000</td>\n",
       "      <td>58.000000</td>\n",
       "      <td>378.884000</td>\n",
       "      <td>...</td>\n",
       "      <td>1.000000</td>\n",
       "      <td>4.000000</td>\n",
       "      <td>4.000000</td>\n",
       "      <td>1.000000</td>\n",
       "      <td>1.000000</td>\n",
       "      <td>8.000000</td>\n",
       "      <td>108.000000</td>\n",
       "      <td>196.000000</td>\n",
       "      <td>38.000000</td>\n",
       "      <td>120.000000</td>\n",
       "    </tr>\n",
       "  </tbody>\n",
       "</table>\n",
       "<p>8 rows × 21 columns</p>\n",
       "</div>"
      ],
      "text/plain": [
       "               ID  Reason for absence  Month of absence  Day of the week  \\\n",
       "count  740.000000          740.000000        740.000000       740.000000   \n",
       "mean    18.017568           19.216216          6.324324         3.914865   \n",
       "std     11.021247            8.433406          3.436287         1.421675   \n",
       "min      1.000000            0.000000          0.000000         2.000000   \n",
       "25%      9.000000           13.000000          3.000000         3.000000   \n",
       "50%     18.000000           23.000000          6.000000         4.000000   \n",
       "75%     28.000000           26.000000          9.000000         5.000000   \n",
       "max     36.000000           28.000000         12.000000         6.000000   \n",
       "\n",
       "          Seasons  Transportation expense  Distance from Residence to Work  \\\n",
       "count  740.000000              740.000000                       740.000000   \n",
       "mean     2.544595              221.329730                        29.631081   \n",
       "std      1.111831               66.952223                        14.836788   \n",
       "min      1.000000              118.000000                         5.000000   \n",
       "25%      2.000000              179.000000                        16.000000   \n",
       "50%      3.000000              225.000000                        26.000000   \n",
       "75%      4.000000              260.000000                        50.000000   \n",
       "max      4.000000              388.000000                        52.000000   \n",
       "\n",
       "       Service time         Age  Work load Average/day   ...  \\\n",
       "count    740.000000  740.000000              740.000000  ...   \n",
       "mean      12.554054   36.450000              271.490235  ...   \n",
       "std        4.384873    6.478772               39.058116  ...   \n",
       "min        1.000000   27.000000              205.917000  ...   \n",
       "25%        9.000000   31.000000              244.387000  ...   \n",
       "50%       13.000000   37.000000              264.249000  ...   \n",
       "75%       16.000000   40.000000              294.217000  ...   \n",
       "max       29.000000   58.000000              378.884000  ...   \n",
       "\n",
       "       Disciplinary failure   Education         Son  Social drinker  \\\n",
       "count            740.000000  740.000000  740.000000      740.000000   \n",
       "mean               0.054054    1.291892    1.018919        0.567568   \n",
       "std                0.226277    0.673238    1.098489        0.495749   \n",
       "min                0.000000    1.000000    0.000000        0.000000   \n",
       "25%                0.000000    1.000000    0.000000        0.000000   \n",
       "50%                0.000000    1.000000    1.000000        1.000000   \n",
       "75%                0.000000    1.000000    2.000000        1.000000   \n",
       "max                1.000000    4.000000    4.000000        1.000000   \n",
       "\n",
       "       Social smoker         Pet      Weight      Height  Body mass index  \\\n",
       "count     740.000000  740.000000  740.000000  740.000000       740.000000   \n",
       "mean        0.072973    0.745946   79.035135  172.114865        26.677027   \n",
       "std         0.260268    1.318258   12.883211    6.034995         4.285452   \n",
       "min         0.000000    0.000000   56.000000  163.000000        19.000000   \n",
       "25%         0.000000    0.000000   69.000000  169.000000        24.000000   \n",
       "50%         0.000000    0.000000   83.000000  170.000000        25.000000   \n",
       "75%         0.000000    1.000000   89.000000  172.000000        31.000000   \n",
       "max         1.000000    8.000000  108.000000  196.000000        38.000000   \n",
       "\n",
       "       Absenteeism time in hours  \n",
       "count                 740.000000  \n",
       "mean                    6.924324  \n",
       "std                    13.330998  \n",
       "min                     0.000000  \n",
       "25%                     2.000000  \n",
       "50%                     3.000000  \n",
       "75%                     8.000000  \n",
       "max                   120.000000  \n",
       "\n",
       "[8 rows x 21 columns]"
      ]
     },
     "execution_count": 112,
     "metadata": {},
     "output_type": "execute_result"
    }
   ],
   "source": [
    "#checking more information and descriptive statistics\n",
    "\n",
    "df.describe()"
   ]
  },
  {
   "cell_type": "code",
   "execution_count": 113,
   "metadata": {},
   "outputs": [
    {
     "data": {
      "text/plain": [
       "ID                                 0\n",
       "Reason for absence                 0\n",
       "Month of absence                   0\n",
       "Day of the week                    0\n",
       "Seasons                            0\n",
       "Transportation expense             0\n",
       "Distance from Residence to Work    0\n",
       "Service time                       0\n",
       "Age                                0\n",
       "Work load Average/day              0\n",
       "Hit target                         0\n",
       "Disciplinary failure               0\n",
       "Education                          0\n",
       "Son                                0\n",
       "Social drinker                     0\n",
       "Social smoker                      0\n",
       "Pet                                0\n",
       "Weight                             0\n",
       "Height                             0\n",
       "Body mass index                    0\n",
       "Absenteeism time in hours          0\n",
       "dtype: int64"
      ]
     },
     "execution_count": 113,
     "metadata": {},
     "output_type": "execute_result"
    }
   ],
   "source": [
    "# checking for NaN values patients\n",
    "\n",
    "df.isna().sum()"
   ]
  },
  {
   "cell_type": "code",
   "execution_count": 114,
   "metadata": {},
   "outputs": [
    {
     "data": {
      "text/plain": [
       "34"
      ]
     },
     "execution_count": 114,
     "metadata": {},
     "output_type": "execute_result"
    }
   ],
   "source": [
    "#checking for duplicated rows \n",
    "\n",
    "df.duplicated().sum()"
   ]
  },
  {
   "cell_type": "code",
   "execution_count": 115,
   "metadata": {},
   "outputs": [
    {
     "data": {
      "text/plain": [
       "0      3\n",
       "1     50\n",
       "2     72\n",
       "3     87\n",
       "4     53\n",
       "5     64\n",
       "6     54\n",
       "7     67\n",
       "8     54\n",
       "9     53\n",
       "10    71\n",
       "11    63\n",
       "12    49\n",
       "Name: Month of absence, dtype: int64"
      ]
     },
     "execution_count": 115,
     "metadata": {},
     "output_type": "execute_result"
    }
   ],
   "source": [
    "# check month of absence value_counts \n",
    "df[\"Month of absence\"].value_counts().sort_index()"
   ]
  },
  {
   "cell_type": "code",
   "execution_count": 116,
   "metadata": {},
   "outputs": [
    {
     "data": {
      "text/plain": [
       "2    161\n",
       "3    154\n",
       "4    156\n",
       "5    125\n",
       "6    144\n",
       "Name: Day of the week, dtype: int64"
      ]
     },
     "execution_count": 116,
     "metadata": {},
     "output_type": "execute_result"
    }
   ],
   "source": [
    "# check day of week value_counts \n",
    "df[\"Day of the week\"].value_counts().sort_index()"
   ]
  },
  {
   "cell_type": "code",
   "execution_count": 117,
   "metadata": {},
   "outputs": [
    {
     "data": {
      "text/plain": [
       "1    170\n",
       "2    192\n",
       "3    183\n",
       "4    195\n",
       "Name: Seasons, dtype: int64"
      ]
     },
     "execution_count": 117,
     "metadata": {},
     "output_type": "execute_result"
    }
   ],
   "source": [
    "# check Seasons value_counts \n",
    "df[\"Seasons\"].value_counts().sort_index()"
   ]
  },
  {
   "cell_type": "code",
   "execution_count": 118,
   "metadata": {},
   "outputs": [
    {
     "data": {
      "text/plain": [
       "0    460\n",
       "1    138\n",
       "2     96\n",
       "4     32\n",
       "5      6\n",
       "8      8\n",
       "Name: Pet, dtype: int64"
      ]
     },
     "execution_count": 118,
     "metadata": {},
     "output_type": "execute_result"
    }
   ],
   "source": [
    "# check Pets value_counts \n",
    "df.Pet.value_counts().sort_index()"
   ]
  },
  {
   "cell_type": "markdown",
   "metadata": {},
   "source": [
    "**We have 2 columns to check if employee made absence or not (Reason for absence and Absenteeism time in hours) so we need to assure there is no conflict between both of them.**"
   ]
  },
  {
   "cell_type": "code",
   "execution_count": 119,
   "metadata": {},
   "outputs": [
    {
     "data": {
      "text/html": [
       "<div>\n",
       "<style scoped>\n",
       "    .dataframe tbody tr th:only-of-type {\n",
       "        vertical-align: middle;\n",
       "    }\n",
       "\n",
       "    .dataframe tbody tr th {\n",
       "        vertical-align: top;\n",
       "    }\n",
       "\n",
       "    .dataframe thead th {\n",
       "        text-align: right;\n",
       "    }\n",
       "</style>\n",
       "<table border=\"1\" class=\"dataframe\">\n",
       "  <thead>\n",
       "    <tr style=\"text-align: right;\">\n",
       "      <th></th>\n",
       "      <th>ID</th>\n",
       "      <th>Reason for absence</th>\n",
       "      <th>Month of absence</th>\n",
       "      <th>Day of the week</th>\n",
       "      <th>Seasons</th>\n",
       "      <th>Transportation expense</th>\n",
       "      <th>Distance from Residence to Work</th>\n",
       "      <th>Service time</th>\n",
       "      <th>Age</th>\n",
       "      <th>Work load Average/day</th>\n",
       "      <th>...</th>\n",
       "      <th>Disciplinary failure</th>\n",
       "      <th>Education</th>\n",
       "      <th>Son</th>\n",
       "      <th>Social drinker</th>\n",
       "      <th>Social smoker</th>\n",
       "      <th>Pet</th>\n",
       "      <th>Weight</th>\n",
       "      <th>Height</th>\n",
       "      <th>Body mass index</th>\n",
       "      <th>Absenteeism time in hours</th>\n",
       "    </tr>\n",
       "  </thead>\n",
       "  <tbody>\n",
       "  </tbody>\n",
       "</table>\n",
       "<p>0 rows × 21 columns</p>\n",
       "</div>"
      ],
      "text/plain": [
       "Empty DataFrame\n",
       "Columns: [ID, Reason for absence, Month of absence, Day of the week, Seasons, Transportation expense, Distance from Residence to Work, Service time, Age, Work load Average/day , Hit target, Disciplinary failure, Education, Son, Social drinker, Social smoker, Pet, Weight, Height, Body mass index, Absenteeism time in hours]\n",
       "Index: []\n",
       "\n",
       "[0 rows x 21 columns]"
      ]
     },
     "execution_count": 119,
     "metadata": {},
     "output_type": "execute_result"
    }
   ],
   "source": [
    "df[(df[\"Reason for absence\"] == 0) &(df[\"Absenteeism time in hours\"] != 0)]"
   ]
  },
  {
   "cell_type": "code",
   "execution_count": 120,
   "metadata": {},
   "outputs": [
    {
     "data": {
      "text/html": [
       "<div>\n",
       "<style scoped>\n",
       "    .dataframe tbody tr th:only-of-type {\n",
       "        vertical-align: middle;\n",
       "    }\n",
       "\n",
       "    .dataframe tbody tr th {\n",
       "        vertical-align: top;\n",
       "    }\n",
       "\n",
       "    .dataframe thead th {\n",
       "        text-align: right;\n",
       "    }\n",
       "</style>\n",
       "<table border=\"1\" class=\"dataframe\">\n",
       "  <thead>\n",
       "    <tr style=\"text-align: right;\">\n",
       "      <th></th>\n",
       "      <th>ID</th>\n",
       "      <th>Reason for absence</th>\n",
       "      <th>Month of absence</th>\n",
       "      <th>Day of the week</th>\n",
       "      <th>Seasons</th>\n",
       "      <th>Transportation expense</th>\n",
       "      <th>Distance from Residence to Work</th>\n",
       "      <th>Service time</th>\n",
       "      <th>Age</th>\n",
       "      <th>Work load Average/day</th>\n",
       "      <th>...</th>\n",
       "      <th>Disciplinary failure</th>\n",
       "      <th>Education</th>\n",
       "      <th>Son</th>\n",
       "      <th>Social drinker</th>\n",
       "      <th>Social smoker</th>\n",
       "      <th>Pet</th>\n",
       "      <th>Weight</th>\n",
       "      <th>Height</th>\n",
       "      <th>Body mass index</th>\n",
       "      <th>Absenteeism time in hours</th>\n",
       "    </tr>\n",
       "  </thead>\n",
       "  <tbody>\n",
       "    <tr>\n",
       "      <th>134</th>\n",
       "      <td>34</td>\n",
       "      <td>27</td>\n",
       "      <td>1</td>\n",
       "      <td>2</td>\n",
       "      <td>2</td>\n",
       "      <td>118</td>\n",
       "      <td>10</td>\n",
       "      <td>10</td>\n",
       "      <td>37</td>\n",
       "      <td>308.593</td>\n",
       "      <td>...</td>\n",
       "      <td>0</td>\n",
       "      <td>1</td>\n",
       "      <td>0</td>\n",
       "      <td>0</td>\n",
       "      <td>0</td>\n",
       "      <td>0</td>\n",
       "      <td>83</td>\n",
       "      <td>172</td>\n",
       "      <td>28</td>\n",
       "      <td>0</td>\n",
       "    </tr>\n",
       "  </tbody>\n",
       "</table>\n",
       "<p>1 rows × 21 columns</p>\n",
       "</div>"
      ],
      "text/plain": [
       "     ID  Reason for absence  Month of absence  Day of the week  Seasons  \\\n",
       "134  34                  27                 1                2        2   \n",
       "\n",
       "     Transportation expense  Distance from Residence to Work  Service time  \\\n",
       "134                     118                               10            10   \n",
       "\n",
       "     Age  Work load Average/day   ...  Disciplinary failure  Education  Son  \\\n",
       "134   37                 308.593  ...                     0          1    0   \n",
       "\n",
       "     Social drinker  Social smoker  Pet  Weight  Height  Body mass index  \\\n",
       "134               0              0    0      83     172               28   \n",
       "\n",
       "     Absenteeism time in hours  \n",
       "134                          0  \n",
       "\n",
       "[1 rows x 21 columns]"
      ]
     },
     "execution_count": 120,
     "metadata": {},
     "output_type": "execute_result"
    }
   ],
   "source": [
    "df[(df[\"Reason for absence\"] != 0) &(df[\"Absenteeism time in hours\"] == 0)]"
   ]
  },
  {
   "cell_type": "markdown",
   "metadata": {},
   "source": [
    "## From above data we can observe that: \n",
    "\n",
    "> **1.There are 34 duplicate values but we cannot consider this as duplicate records because same employee can make absence due to same reason specially for medical reasons.**\n",
    "\n",
    "> **2. Dataset has 740 records without any missing or empty data.**\n",
    "\n",
    "> **3. There are 8 employes who have 8 pets and other 6  who have 6 pets which are large numbers of pets to have. We need to ensure this information is correct.**\n",
    "\n",
    "> **4. There are 3 records on Month of absence column have value of 0 while other 49 have value of 12. I Assume this is a typo mistake where 0 inserted instead of 1.**\n",
    "\n",
    "> **5. The employee with ID 34 has dental consultation reason for absence but his Absenteeism time in hours is 0 so we can consider him as not absent. I will use Absenteeism time in hours to concider there is absence or not.**"
   ]
  },
  {
   "cell_type": "markdown",
   "metadata": {},
   "source": [
    "##  Cleaning Data\n",
    "\n",
    "### <font color='blue'>Missing Data</font>\n",
    "\n",
    " * **(There is no missing records in this dataset)**\n",
    " \n",
    "\n",
    "### <font color='blue'>Tidiness issues</font>\n",
    "\n",
    " * **(This dataset is tidy)**\n",
    " \n",
    " \n",
    "### <font color='blue'>Quality issues</font>\n",
    "\n",
    "##### 1. **Change columns names for readability and easy accessibility (remove spaces and make names shorter)*\n",
    "\n",
    "\n",
    "##### 2. **Change month_of_absence, day_of_the_week and seasons columns type to string.**\n",
    "\n",
    "\n",
    "##### 3. **Replace months numbers with names and change 0 with 1.** \n",
    "\n",
    "\n",
    "##### 4. **Replace days numbers with names.** \n",
    "\n",
    "\n",
    "##### 5. **Replace seasons numbers with names.** \n",
    "\n",
    "\n",
    "##### 6. **Make new column for abcence and no absence (abcence = 1 and no absence = 0 ).**\n",
    "\n",
    "\n",
    "##### 7. **Make new column for high, medium, low absence and no absence (high, med, low, no).**\n",
    "\n",
    "\n",
    "##### 8. **Make new column for medical and non medical reasons (medical, not_medical and not_absent).**"
   ]
  },
  {
   "cell_type": "code",
   "execution_count": 121,
   "metadata": {},
   "outputs": [],
   "source": [
    "# make copy of origenal dataframes to clean them\n",
    "\n",
    "df_clean = df.copy()"
   ]
  },
  {
   "cell_type": "markdown",
   "metadata": {},
   "source": [
    "### <font color='blue'>Fixing Quality issues</font>"
   ]
  },
  {
   "cell_type": "markdown",
   "metadata": {},
   "source": [
    "#### 1. Change columns names for readability and easy accessibility (remove spaces and make names shorter)."
   ]
  },
  {
   "cell_type": "markdown",
   "metadata": {},
   "source": [
    "##### Solution\n",
    "* Change names using for loop and `df.columns`method."
   ]
  },
  {
   "cell_type": "markdown",
   "metadata": {},
   "source": [
    "##### Code"
   ]
  },
  {
   "cell_type": "code",
   "execution_count": 122,
   "metadata": {},
   "outputs": [
    {
     "data": {
      "text/plain": [
       "['ID',\n",
       " 'Reason for absence',\n",
       " 'Month of absence',\n",
       " 'Day of the week',\n",
       " 'Seasons',\n",
       " 'Transportation expense',\n",
       " 'Distance from Residence to Work',\n",
       " 'Service time',\n",
       " 'Age',\n",
       " 'Work load Average/day ',\n",
       " 'Hit target',\n",
       " 'Disciplinary failure',\n",
       " 'Education',\n",
       " 'Son',\n",
       " 'Social drinker',\n",
       " 'Social smoker',\n",
       " 'Pet',\n",
       " 'Weight',\n",
       " 'Height',\n",
       " 'Body mass index',\n",
       " 'Absenteeism time in hours']"
      ]
     },
     "execution_count": 122,
     "metadata": {},
     "output_type": "execute_result"
    }
   ],
   "source": [
    "# creat new list with current columns names \n",
    "\n",
    "col_names = list(df_clean.columns)\n",
    "col_names"
   ]
  },
  {
   "cell_type": "code",
   "execution_count": 123,
   "metadata": {},
   "outputs": [
    {
     "data": {
      "text/plain": [
       "['id',\n",
       " 'reason_for_absence',\n",
       " 'month_of_absence',\n",
       " 'day_of_the_week',\n",
       " 'seasons',\n",
       " 'transportation_expense',\n",
       " 'distance_from_residence_to_work',\n",
       " 'service_time',\n",
       " 'age',\n",
       " 'work_load_average_on_day',\n",
       " 'hit_target',\n",
       " 'disciplinary_failure',\n",
       " 'education',\n",
       " 'son',\n",
       " 'social_drinker',\n",
       " 'social_smoker',\n",
       " 'pet',\n",
       " 'weight',\n",
       " 'height',\n",
       " 'body_mass_index',\n",
       " 'absenteeism_time_in_hours']"
      ]
     },
     "execution_count": 123,
     "metadata": {},
     "output_type": "execute_result"
    }
   ],
   "source": [
    "# replace space with \"_\"\n",
    "\n",
    "new_col_names=[]\n",
    "for i in col_names:\n",
    "    i = i.replace(\"/\",\"_on_\").strip()\n",
    "    new_col_names.append (i.replace(\" \",\"_\").lower())\n",
    "new_col_names"
   ]
  },
  {
   "cell_type": "code",
   "execution_count": 124,
   "metadata": {},
   "outputs": [],
   "source": [
    "# assign new names to df_clean\n",
    "\n",
    "df_clean.columns = new_col_names"
   ]
  },
  {
   "cell_type": "markdown",
   "metadata": {},
   "source": [
    "##### Test"
   ]
  },
  {
   "cell_type": "code",
   "execution_count": 125,
   "metadata": {},
   "outputs": [
    {
     "data": {
      "text/plain": [
       "Index(['id', 'reason_for_absence', 'month_of_absence', 'day_of_the_week',\n",
       "       'seasons', 'transportation_expense', 'distance_from_residence_to_work',\n",
       "       'service_time', 'age', 'work_load_average_on_day', 'hit_target',\n",
       "       'disciplinary_failure', 'education', 'son', 'social_drinker',\n",
       "       'social_smoker', 'pet', 'weight', 'height', 'body_mass_index',\n",
       "       'absenteeism_time_in_hours'],\n",
       "      dtype='object')"
      ]
     },
     "execution_count": 125,
     "metadata": {},
     "output_type": "execute_result"
    }
   ],
   "source": [
    "# confirm changes \n",
    "\n",
    "df_clean.columns"
   ]
  },
  {
   "cell_type": "code",
   "execution_count": 126,
   "metadata": {},
   "outputs": [],
   "source": [
    "# make copy from current dataframe to use it on regression models\n",
    "\n",
    "df_reg = df_clean.copy()"
   ]
  },
  {
   "cell_type": "markdown",
   "metadata": {},
   "source": [
    "#### 2. Change  month_of_absence, day_of_the_week and seasons columns type to string."
   ]
  },
  {
   "cell_type": "markdown",
   "metadata": {},
   "source": [
    "##### Solution\n",
    "* change data type using `.astype()` method."
   ]
  },
  {
   "cell_type": "markdown",
   "metadata": {},
   "source": [
    "##### Code"
   ]
  },
  {
   "cell_type": "code",
   "execution_count": 127,
   "metadata": {},
   "outputs": [],
   "source": [
    "df_clean.month_of_absence = df_clean.month_of_absence.astype(str)\n",
    "df_clean.day_of_the_week = df_clean.day_of_the_week.astype(str)\n",
    "df_clean.seasons = df_clean.seasons.astype(str)"
   ]
  },
  {
   "cell_type": "markdown",
   "metadata": {},
   "source": [
    "##### Test"
   ]
  },
  {
   "cell_type": "code",
   "execution_count": 128,
   "metadata": {},
   "outputs": [
    {
     "name": "stdout",
     "output_type": "stream",
     "text": [
      "<class 'pandas.core.frame.DataFrame'>\n",
      "RangeIndex: 740 entries, 0 to 739\n",
      "Data columns (total 21 columns):\n",
      " #   Column                           Non-Null Count  Dtype  \n",
      "---  ------                           --------------  -----  \n",
      " 0   id                               740 non-null    int64  \n",
      " 1   reason_for_absence               740 non-null    int64  \n",
      " 2   month_of_absence                 740 non-null    object \n",
      " 3   day_of_the_week                  740 non-null    object \n",
      " 4   seasons                          740 non-null    object \n",
      " 5   transportation_expense           740 non-null    int64  \n",
      " 6   distance_from_residence_to_work  740 non-null    int64  \n",
      " 7   service_time                     740 non-null    int64  \n",
      " 8   age                              740 non-null    int64  \n",
      " 9   work_load_average_on_day         740 non-null    float64\n",
      " 10  hit_target                       740 non-null    int64  \n",
      " 11  disciplinary_failure             740 non-null    int64  \n",
      " 12  education                        740 non-null    int64  \n",
      " 13  son                              740 non-null    int64  \n",
      " 14  social_drinker                   740 non-null    int64  \n",
      " 15  social_smoker                    740 non-null    int64  \n",
      " 16  pet                              740 non-null    int64  \n",
      " 17  weight                           740 non-null    int64  \n",
      " 18  height                           740 non-null    int64  \n",
      " 19  body_mass_index                  740 non-null    int64  \n",
      " 20  absenteeism_time_in_hours        740 non-null    int64  \n",
      "dtypes: float64(1), int64(17), object(3)\n",
      "memory usage: 121.5+ KB\n"
     ]
    }
   ],
   "source": [
    "# confirm changes\n",
    "\n",
    "df_clean.info()"
   ]
  },
  {
   "cell_type": "markdown",
   "metadata": {},
   "source": [
    "#### 3. Replace months numbers with names."
   ]
  },
  {
   "cell_type": "markdown",
   "metadata": {},
   "source": [
    "##### Solution\n",
    "* Make new dictionary with months numbers and name \n",
    "* replace number values with names using `.replace()` method."
   ]
  },
  {
   "cell_type": "markdown",
   "metadata": {},
   "source": [
    "##### Code"
   ]
  },
  {
   "cell_type": "code",
   "execution_count": 130,
   "metadata": {},
   "outputs": [],
   "source": [
    "# make new dic with months names\n",
    "\n",
    "month_dic = {\"0\":\"Jan\",\n",
    "            \"1\":\"Jan\",\n",
    "            \"2\":\"Feb\",\n",
    "            \"3\":\"Mar\",\n",
    "            \"4\":\"Apr\",\n",
    "            \"5\":\"May\",\n",
    "            \"6\":\"Jun\",\n",
    "            \"7\":\"Jul\",\n",
    "            \"8\":\"Aug\",\n",
    "            \"9\":\"Sep\",\n",
    "            \"10\":\"Nov\",\n",
    "            \"11\":\"Oct\",\n",
    "            \"12\":\"Dec\"}"
   ]
  },
  {
   "cell_type": "code",
   "execution_count": 131,
   "metadata": {},
   "outputs": [],
   "source": [
    "# change numbers with names \n",
    "\n",
    "df_clean.month_of_absence = df_clean.month_of_absence.replace(month_dic)"
   ]
  },
  {
   "cell_type": "markdown",
   "metadata": {},
   "source": [
    "##### Test"
   ]
  },
  {
   "cell_type": "code",
   "execution_count": 137,
   "metadata": {},
   "outputs": [
    {
     "data": {
      "text/plain": [
       "Mar    87\n",
       "Feb    72\n",
       "Nov    71\n",
       "Jul    67\n",
       "May    64\n",
       "Oct    63\n",
       "Aug    54\n",
       "Jun    54\n",
       "Sep    53\n",
       "Jan    53\n",
       "Apr    53\n",
       "Dec    49\n",
       "Name: month_of_absence, dtype: int64"
      ]
     },
     "execution_count": 137,
     "metadata": {},
     "output_type": "execute_result"
    }
   ],
   "source": [
    "# confirm changes\n",
    "\n",
    "df_clean.month_of_absence.value_counts()"
   ]
  },
  {
   "cell_type": "markdown",
   "metadata": {},
   "source": [
    "#### 4. Replace days numbers with names."
   ]
  },
  {
   "cell_type": "markdown",
   "metadata": {},
   "source": [
    "##### Solution\n",
    "* Make new dictionary with Days numbers and names \n",
    "* replace number values with names using `.replace()` method."
   ]
  },
  {
   "cell_type": "markdown",
   "metadata": {},
   "source": [
    "##### Code"
   ]
  },
  {
   "cell_type": "code",
   "execution_count": 138,
   "metadata": {},
   "outputs": [],
   "source": [
    "day_dic = {\"2\":\"Monday\",\n",
    "            \"3\":\"Tuesday\",\n",
    "            \"4\":\"Wednesday\",\n",
    "            \"5\":\"Thursday\",\n",
    "            \"6\":\"Friday\",\n",
    "            }"
   ]
  },
  {
   "cell_type": "code",
   "execution_count": 139,
   "metadata": {},
   "outputs": [],
   "source": [
    "# change numbers with names \n",
    "\n",
    "df_clean.day_of_the_week = df_clean.day_of_the_week.replace(day_dic)"
   ]
  },
  {
   "cell_type": "markdown",
   "metadata": {},
   "source": [
    "##### Test"
   ]
  },
  {
   "cell_type": "code",
   "execution_count": 140,
   "metadata": {},
   "outputs": [
    {
     "data": {
      "text/plain": [
       "Monday       161\n",
       "Wednesday    156\n",
       "Tuesday      154\n",
       "Friday       144\n",
       "Thursday     125\n",
       "Name: day_of_the_week, dtype: int64"
      ]
     },
     "execution_count": 140,
     "metadata": {},
     "output_type": "execute_result"
    }
   ],
   "source": [
    "# confirm changes\n",
    "\n",
    "df_clean.day_of_the_week.value_counts()"
   ]
  },
  {
   "cell_type": "markdown",
   "metadata": {},
   "source": [
    "#### 5. Replace seasons numbers with names."
   ]
  },
  {
   "cell_type": "markdown",
   "metadata": {},
   "source": [
    "##### Solution\n",
    "* Make new dictionary with Seasons numbers and names \n",
    "* replace number values with names using `.replace()` method."
   ]
  },
  {
   "cell_type": "markdown",
   "metadata": {},
   "source": [
    "##### Code"
   ]
  },
  {
   "cell_type": "code",
   "execution_count": 141,
   "metadata": {},
   "outputs": [],
   "source": [
    "season_dic = {\"1\":\"Summer\",\n",
    "            \"2\":\"Autumn\",\n",
    "            \"3\":\"Winter\",\n",
    "            \"4\":\"Spring\"\n",
    "            }"
   ]
  },
  {
   "cell_type": "code",
   "execution_count": 142,
   "metadata": {},
   "outputs": [],
   "source": [
    "# change numbers with names \n",
    "\n",
    "df_clean.seasons = df_clean.seasons.replace(season_dic)"
   ]
  },
  {
   "cell_type": "markdown",
   "metadata": {},
   "source": [
    "##### Test"
   ]
  },
  {
   "cell_type": "code",
   "execution_count": 143,
   "metadata": {},
   "outputs": [
    {
     "data": {
      "text/plain": [
       "Spring    195\n",
       "Autumn    192\n",
       "Winter    183\n",
       "Summer    170\n",
       "Name: seasons, dtype: int64"
      ]
     },
     "execution_count": 143,
     "metadata": {},
     "output_type": "execute_result"
    }
   ],
   "source": [
    "# Confirm changes\n",
    "\n",
    "df_clean.seasons.value_counts()"
   ]
  },
  {
   "cell_type": "markdown",
   "metadata": {},
   "source": [
    "#### 6. Make new column for abcence and no absence (abcence = 1 and no absence = 0 )"
   ]
  },
  {
   "cell_type": "markdown",
   "metadata": {},
   "source": [
    "##### Solution\n",
    "* make new column using `np.where` depending on absenteeism_time_in_hours column"
   ]
  },
  {
   "cell_type": "markdown",
   "metadata": {},
   "source": [
    "##### Code"
   ]
  },
  {
   "cell_type": "code",
   "execution_count": 144,
   "metadata": {},
   "outputs": [],
   "source": [
    "df_clean[\"absence_status\"] = np.where(df_clean.absenteeism_time_in_hours == 0 , 0, 1)"
   ]
  },
  {
   "cell_type": "markdown",
   "metadata": {},
   "source": [
    "##### Test"
   ]
  },
  {
   "cell_type": "code",
   "execution_count": 145,
   "metadata": {},
   "outputs": [
    {
     "data": {
      "text/plain": [
       "1    0.940541\n",
       "0    0.059459\n",
       "Name: absence_status, dtype: float64"
      ]
     },
     "execution_count": 145,
     "metadata": {},
     "output_type": "execute_result"
    }
   ],
   "source": [
    "# Confirm changes\n",
    "\n",
    "df_clean.absence_status.value_counts(normalize=True)"
   ]
  },
  {
   "cell_type": "markdown",
   "metadata": {},
   "source": [
    "#### 7.Make new column for high, medium, low absence and no absence (high, med, low, no)."
   ]
  },
  {
   "cell_type": "markdown",
   "metadata": {},
   "source": [
    "##### Solution\n",
    "* make new column using `cut` function depending on minimum, first quartile, second quartile, third quartile and maximum."
   ]
  },
  {
   "cell_type": "markdown",
   "metadata": {},
   "source": [
    "##### Code"
   ]
  },
  {
   "cell_type": "code",
   "execution_count": 146,
   "metadata": {},
   "outputs": [
    {
     "data": {
      "text/plain": [
       "count    740.000000\n",
       "mean       6.924324\n",
       "std       13.330998\n",
       "min        0.000000\n",
       "25%        2.000000\n",
       "50%        3.000000\n",
       "75%        8.000000\n",
       "max      120.000000\n",
       "Name: absenteeism_time_in_hours, dtype: float64"
      ]
     },
     "execution_count": 146,
     "metadata": {},
     "output_type": "execute_result"
    }
   ],
   "source": [
    "# checking absenteeism_time_in_hours describtion \n",
    "\n",
    "df_clean.absenteeism_time_in_hours.describe()"
   ]
  },
  {
   "cell_type": "code",
   "execution_count": 147,
   "metadata": {},
   "outputs": [],
   "source": [
    "bins = [0, 2, 3, 8, 120]\n",
    "labls = [\"No\", \"Low\", \"Medium\", \"High\"]\n",
    "df_clean[\"absence_level\"] = pd.cut(df_clean.absenteeism_time_in_hours, bins, labels = labls, include_lowest=True, right=True)"
   ]
  },
  {
   "cell_type": "markdown",
   "metadata": {},
   "source": [
    "##### Test"
   ]
  },
  {
   "cell_type": "code",
   "execution_count": 148,
   "metadata": {},
   "outputs": [
    {
     "data": {
      "text/plain": [
       "No        289\n",
       "Medium    276\n",
       "Low       112\n",
       "High       63\n",
       "Name: absence_level, dtype: int64"
      ]
     },
     "execution_count": 148,
     "metadata": {},
     "output_type": "execute_result"
    }
   ],
   "source": [
    "# Confirm changes \n",
    "\n",
    "df_clean[\"absence_level\"].value_counts()"
   ]
  },
  {
   "cell_type": "markdown",
   "metadata": {},
   "source": [
    "#### 8 Make new column for medical and non medical reasons (medical, not_medical and not_absent)."
   ]
  },
  {
   "cell_type": "markdown",
   "metadata": {},
   "source": [
    "##### Solution\n",
    "* Make new dictionary with absence reasons. \n",
    "* replace number values with names using `.replace()` method."
   ]
  },
  {
   "cell_type": "markdown",
   "metadata": {},
   "source": [
    "> **1. All records with 0 value indicates there is no absence.**\n",
    "\n",
    "> **2. All values from 1 to 22 are medical absence cases.** \n",
    "\n",
    "> **3. All values from 23 to 28 are not medical cases.**"
   ]
  },
  {
   "cell_type": "markdown",
   "metadata": {},
   "source": [
    "##### Code"
   ]
  },
  {
   "cell_type": "code",
   "execution_count": 149,
   "metadata": {},
   "outputs": [
    {
     "data": {
      "text/plain": [
       "{0: 'No_absence',\n",
       " 1: 'Medical',\n",
       " 2: 'Medical',\n",
       " 3: 'Medical',\n",
       " 4: 'Medical',\n",
       " 5: 'Medical',\n",
       " 6: 'Medical',\n",
       " 7: 'Medical',\n",
       " 8: 'Medical',\n",
       " 9: 'Medical',\n",
       " 10: 'Medical',\n",
       " 11: 'Medical',\n",
       " 12: 'Medical',\n",
       " 13: 'Medical',\n",
       " 14: 'Medical',\n",
       " 15: 'Medical',\n",
       " 16: 'Medical',\n",
       " 17: 'Medical',\n",
       " 18: 'Medical',\n",
       " 19: 'Medical',\n",
       " 20: 'Medical',\n",
       " 21: 'Medical',\n",
       " 22: 'Medical',\n",
       " 23: 'Not_Medical',\n",
       " 24: 'Not_Medical',\n",
       " 25: 'Not_Medical',\n",
       " 26: 'Not_Medical',\n",
       " 27: 'Not_Medical',\n",
       " 28: 'Not_Medical'}"
      ]
     },
     "execution_count": 149,
     "metadata": {},
     "output_type": "execute_result"
    }
   ],
   "source": [
    "reasons_dic={}\n",
    "for i in range(29):\n",
    "    if i ==0:\n",
    "        reasons_dic[i] = \"No_absence\"\n",
    "    elif i < 23: \n",
    "        reasons_dic[i] = \"Medical\"\n",
    "    else:\n",
    "        reasons_dic[i] = \"Not_Medical\"\n",
    "reasons_dic"
   ]
  },
  {
   "cell_type": "code",
   "execution_count": 150,
   "metadata": {},
   "outputs": [],
   "source": [
    "df_clean[\"absence_reason\"] = df_clean.reason_for_absence\n",
    "df_clean[\"absence_reason\"] = df_clean.absence_reason.replace(reasons_dic)"
   ]
  },
  {
   "cell_type": "markdown",
   "metadata": {},
   "source": [
    "##### Test"
   ]
  },
  {
   "cell_type": "code",
   "execution_count": 151,
   "metadata": {},
   "outputs": [
    {
     "data": {
      "text/plain": [
       "Not_Medical    397\n",
       "Medical        300\n",
       "No_absence      43\n",
       "Name: absence_reason, dtype: int64"
      ]
     },
     "execution_count": 151,
     "metadata": {},
     "output_type": "execute_result"
    }
   ],
   "source": [
    "# Confirm changes \n",
    "\n",
    "df_clean.absence_reason.value_counts()"
   ]
  },
  {
   "cell_type": "markdown",
   "metadata": {},
   "source": [
    "### Now this dataset is tidy and clean so let's explore it."
   ]
  },
  {
   "cell_type": "markdown",
   "metadata": {},
   "source": [
    "<a id='eda'></a>\n",
    "## Exploratory Data Analysis\n",
    "\n",
    "> Now I'm going to explore this data and try to find patterns in it, compute statistics and visualize the relationships\n",
    "to answer the questions and detect the characteristics that affect patients attending to their hospital appointment\n"
   ]
  },
  {
   "cell_type": "markdown",
   "metadata": {},
   "source": [
    "### Research Question 1\n",
    "> ####  What is the most frequent reason for absences?"
   ]
  },
  {
   "cell_type": "code",
   "execution_count": 158,
   "metadata": {},
   "outputs": [
    {
     "data": {
      "image/png": "[encoded data removed]",
      "text/plain": [
       "<Figure size 936x360 with 1 Axes>"
      ]
     },
     "metadata": {
      "needs_background": "light"
     },
     "output_type": "display_data"
    }
   ],
   "source": [
    "df_clean.reason_for_absence.value_counts().plot(kind=\"bar\", \n",
    "                                                 rot=0, \n",
    "                                                 alpha=0.9, \n",
    "                                                 width = 0.5,\n",
    "                                                 fontsize = 12,\n",
    "                                                 figsize=(13,5)\n",
    "                                               )\n",
    "plt.xticks(fontsize=13)\n",
    "plt.xlabel(\"Absence reasons\", fontsize=15, color=\"k\")\n",
    "plt.ylabel(\"Count of absence cases\", fontsize=15, color=\"k\")\n",
    "plt.title(\"Absence reasons count chart\", fontsize=18, color=\"k\");"
   ]
  },
  {
   "cell_type": "markdown",
   "metadata": {},
   "source": [
    "### Answer 1\n",
    "\n",
    "* **From above visualisation we can conclude that the most frequent reason for absences is blood donation which is represented by number (23) with 149 absence case.**"
   ]
  },
  {
   "cell_type": "markdown",
   "metadata": {},
   "source": [
    "### Research Question 2\n",
    "> ####  Which absence reasons have higher rate medical or non medical reasons?"
   ]
  },
  {
   "cell_type": "code",
   "execution_count": 160,
   "metadata": {},
   "outputs": [
    {
     "data": {
      "image/png": "[encoded data removed]",
      "text/plain": [
       "<Figure size 576x360 with 1 Axes>"
      ]
     },
     "metadata": {
      "needs_background": "light"
     },
     "output_type": "display_data"
    }
   ],
   "source": [
    "(df_clean.absence_reason.value_counts(normalize=True)*100).plot(kind=\"bar\", \n",
    "                                                               rot=0,\n",
    "                                                               alpha=0.8, \n",
    "                                                               color=[\"#003B64\",\"#07575B\",\"#66A5AD\"],\n",
    "                                                               width = 0.3,\n",
    "                                                               figsize=(8,5),\n",
    "                                                               fontsize=12)\n",
    "plt.xticks(fontsize=13)\n",
    "plt.xlabel(\"Absence reason type\", fontsize=15, color=\"k\")\n",
    "plt.ylabel(\"Persentage of absence cases %\", fontsize=15, color=\"k\")\n",
    "plt.title(\"Absence reasons persentage chart\", fontsize=18, color=\"k\");\n"
   ]
  },
  {
   "cell_type": "markdown",
   "metadata": {},
   "source": [
    "### Answer 2\n",
    "\n",
    "* **From above visualisation we can conclude that 53.65% of absence cases reasons are not caused by medical reasons.**"
   ]
  },
  {
   "cell_type": "markdown",
   "metadata": {},
   "source": [
    "### Research Question 3\n",
    "> ####  Who are the best employees and the worst employees compared by total absence hours?"
   ]
  },
  {
   "cell_type": "code",
   "execution_count": 155,
   "metadata": {},
   "outputs": [
    {
     "data": {
      "image/png": "[encoded data removed]",
      "text/plain": [
       "<Figure size 936x360 with 1 Axes>"
      ]
     },
     "metadata": {
      "needs_background": "light"
     },
     "output_type": "display_data"
    }
   ],
   "source": [
    "df_clean.groupby(\"id\")[\"absenteeism_time_in_hours\"].sum().sort_values().plot(kind=\"bar\", \n",
    "                                                                               rot=0,\n",
    "                                                                               alpha=0.8, \n",
    "                                                                               color=[\"darkcyan\"],\n",
    "                                                                               width = 0.5,\n",
    "                                                                               figsize=(13,5),\n",
    "                                                                               fontsize=12)\n",
    "\n",
    "plt.xticks(fontsize=14)\n",
    "plt.xlabel(\"Employee ID\", fontsize=15, color=\"k\")\n",
    "plt.ylabel(\"Total absence hours\", fontsize=15, color=\"k\")\n",
    "plt.title(\"Total absence per employee chart\", fontsize=18, color=\"k\");\n"
   ]
  },
  {
   "cell_type": "markdown",
   "metadata": {},
   "source": [
    "### Answer 3\n",
    "\n",
    "* **From above visualisation we can conclude that:**\n",
    "\n",
    "#### The best employees are: \n",
    "\n",
    "> * Employee who has id number 4 with 0 hours absence.\n",
    "> * Employee who has id number 8 with 0 hours absence.\n",
    "> * Employee who has id number 35 with 0 hours absence.\n",
    "\n",
    "\n",
    "#### The worst employees are: \n",
    "\n",
    "> * Employee who has id number 3 with 482 hours absence.\n",
    "> * Employee who has id number 14 with 476 hours absence.\n",
    "> * Employee who has id number 11 with 450 hours absence."
   ]
  },
  {
   "cell_type": "markdown",
   "metadata": {},
   "source": [
    "### Research Question 4\n",
    "> ####  Which month and day have the higher total absence hours?"
   ]
  },
  {
   "cell_type": "code",
   "execution_count": 156,
   "metadata": {},
   "outputs": [
    {
     "data": {
      "image/png": "[encoded data removed]",
      "text/plain": [
       "<Figure size 864x360 with 1 Axes>"
      ]
     },
     "metadata": {
      "needs_background": "light"
     },
     "output_type": "display_data"
    }
   ],
   "source": [
    "month = pd.DataFrame(df_clean.groupby(\"month_of_absence\")[\"absenteeism_time_in_hours\"].sum().sort_values())\n",
    "\n",
    "\n",
    "plt.figure(figsize=(12,5))\n",
    "\n",
    "sns.lineplot(x=\"month_of_absence\",\n",
    "             y=\"absenteeism_time_in_hours\",\n",
    "             data=month, color=\"goldenrod\")\n",
    "\n",
    "\n",
    "plt.xticks(fontsize=14)\n",
    "plt.xlabel(\"Month\", fontsize=15, color=\"k\")\n",
    "plt.ylabel(\"Total absence hours\", fontsize=15, color=\"k\")\n",
    "plt.title(\"Total absence per month\", fontsize=18, color=\"k\");"
   ]
  },
  {
   "cell_type": "code",
   "execution_count": 161,
   "metadata": {},
   "outputs": [
    {
     "data": {
      "image/png": "[encoded data removed]",
      "text/plain": [
       "<Figure size 864x360 with 1 Axes>"
      ]
     },
     "metadata": {
      "needs_background": "light"
     },
     "output_type": "display_data"
    }
   ],
   "source": [
    "day = pd.DataFrame(df_clean.groupby(\"day_of_the_week\")[\"absenteeism_time_in_hours\"].sum().sort_values())\n",
    "\n",
    "\n",
    "plt.figure(figsize=(12,5))\n",
    "\n",
    "sns.lineplot(x=\"day_of_the_week\",\n",
    "             y=\"absenteeism_time_in_hours\",\n",
    "             data=day, color=\"orchid\")\n",
    "\n",
    "\n",
    "plt.xticks(fontsize=14)\n",
    "plt.xlabel(\"Day of week\", fontsize=15, color=\"k\")\n",
    "plt.ylabel(\"Total absence hours\", fontsize=15, color=\"k\")\n",
    "plt.title(\"Total absence per day\", fontsize=18, color=\"k\");"
   ]
  },
  {
   "cell_type": "markdown",
   "metadata": {},
   "source": [
    "### Answer 4\n",
    "\n",
    "* **From above visualisation we can conclude that:**\n",
    "> * March has the higher absence rate with total 765 hours.**\n",
    "> * Monday has the higher absence rate with total 1489 hours.**\n",
    "> * January has the lowest absence rate with total 222 hours.**\n",
    "> * Thursday has the lowest absence rate with total 553 hours.**"
   ]
  },
  {
   "cell_type": "markdown",
   "metadata": {},
   "source": [
    "### Research Question 5\n",
    "> ####  Which variables have strong correlation with absence hours?"
   ]
  },
  {
   "cell_type": "code",
   "execution_count": 47,
   "metadata": {},
   "outputs": [
    {
     "data": {
      "text/html": [
       "<div>\n",
       "<style scoped>\n",
       "    .dataframe tbody tr th:only-of-type {\n",
       "        vertical-align: middle;\n",
       "    }\n",
       "\n",
       "    .dataframe tbody tr th {\n",
       "        vertical-align: top;\n",
       "    }\n",
       "\n",
       "    .dataframe thead th {\n",
       "        text-align: right;\n",
       "    }\n",
       "</style>\n",
       "<table border=\"1\" class=\"dataframe\">\n",
       "  <thead>\n",
       "    <tr style=\"text-align: right;\">\n",
       "      <th></th>\n",
       "      <th>id</th>\n",
       "      <th>reason_for_absence</th>\n",
       "      <th>transportation_expense</th>\n",
       "      <th>distance_from_residence_to_work</th>\n",
       "      <th>service_time</th>\n",
       "      <th>age</th>\n",
       "      <th>work_load_average_on_day</th>\n",
       "      <th>hit_target</th>\n",
       "      <th>disciplinary_failure</th>\n",
       "      <th>education</th>\n",
       "      <th>son</th>\n",
       "      <th>social_drinker</th>\n",
       "      <th>social_smoker</th>\n",
       "      <th>pet</th>\n",
       "      <th>weight</th>\n",
       "      <th>height</th>\n",
       "      <th>body_mass_index</th>\n",
       "      <th>absenteeism_time_in_hours</th>\n",
       "      <th>absence_status</th>\n",
       "    </tr>\n",
       "  </thead>\n",
       "  <tbody>\n",
       "    <tr>\n",
       "      <th>id</th>\n",
       "      <td>1.000000</td>\n",
       "      <td>-0.064245</td>\n",
       "      <td>-0.224163</td>\n",
       "      <td>-0.486160</td>\n",
       "      <td>-0.272704</td>\n",
       "      <td>0.040899</td>\n",
       "      <td>0.092457</td>\n",
       "      <td>0.018789</td>\n",
       "      <td>0.004502</td>\n",
       "      <td>-0.036254</td>\n",
       "      <td>0.002767</td>\n",
       "      <td>-0.451338</td>\n",
       "      <td>-0.010826</td>\n",
       "      <td>-0.041418</td>\n",
       "      <td>-0.254222</td>\n",
       "      <td>0.076363</td>\n",
       "      <td>-0.306924</td>\n",
       "      <td>-0.017997</td>\n",
       "      <td>-0.008938</td>\n",
       "    </tr>\n",
       "    <tr>\n",
       "      <th>reason_for_absence</th>\n",
       "      <td>-0.064245</td>\n",
       "      <td>1.000000</td>\n",
       "      <td>-0.119381</td>\n",
       "      <td>0.161831</td>\n",
       "      <td>0.048425</td>\n",
       "      <td>-0.078608</td>\n",
       "      <td>-0.123472</td>\n",
       "      <td>0.088943</td>\n",
       "      <td>-0.545054</td>\n",
       "      <td>-0.047357</td>\n",
       "      <td>-0.055364</td>\n",
       "      <td>0.065441</td>\n",
       "      <td>-0.115702</td>\n",
       "      <td>-0.055911</td>\n",
       "      <td>-0.000269</td>\n",
       "      <td>-0.079267</td>\n",
       "      <td>0.037205</td>\n",
       "      <td>-0.173116</td>\n",
       "      <td>0.554990</td>\n",
       "    </tr>\n",
       "    <tr>\n",
       "      <th>transportation_expense</th>\n",
       "      <td>-0.224163</td>\n",
       "      <td>-0.119381</td>\n",
       "      <td>1.000000</td>\n",
       "      <td>0.262183</td>\n",
       "      <td>-0.349887</td>\n",
       "      <td>-0.227542</td>\n",
       "      <td>0.005438</td>\n",
       "      <td>-0.080193</td>\n",
       "      <td>0.109222</td>\n",
       "      <td>-0.055065</td>\n",
       "      <td>0.383001</td>\n",
       "      <td>0.145117</td>\n",
       "      <td>0.044356</td>\n",
       "      <td>0.400080</td>\n",
       "      <td>-0.207435</td>\n",
       "      <td>-0.194496</td>\n",
       "      <td>-0.136517</td>\n",
       "      <td>0.027585</td>\n",
       "      <td>-0.083998</td>\n",
       "    </tr>\n",
       "    <tr>\n",
       "      <th>distance_from_residence_to_work</th>\n",
       "      <td>-0.486160</td>\n",
       "      <td>0.161831</td>\n",
       "      <td>0.262183</td>\n",
       "      <td>1.000000</td>\n",
       "      <td>0.131730</td>\n",
       "      <td>-0.145886</td>\n",
       "      <td>-0.068677</td>\n",
       "      <td>-0.013865</td>\n",
       "      <td>-0.056527</td>\n",
       "      <td>-0.259605</td>\n",
       "      <td>0.054230</td>\n",
       "      <td>0.452196</td>\n",
       "      <td>-0.075369</td>\n",
       "      <td>0.205941</td>\n",
       "      <td>-0.047859</td>\n",
       "      <td>-0.353372</td>\n",
       "      <td>0.113772</td>\n",
       "      <td>-0.088363</td>\n",
       "      <td>0.059649</td>\n",
       "    </tr>\n",
       "    <tr>\n",
       "      <th>service_time</th>\n",
       "      <td>-0.272704</td>\n",
       "      <td>0.048425</td>\n",
       "      <td>-0.349887</td>\n",
       "      <td>0.131730</td>\n",
       "      <td>1.000000</td>\n",
       "      <td>0.670979</td>\n",
       "      <td>-0.000668</td>\n",
       "      <td>-0.007840</td>\n",
       "      <td>-0.000221</td>\n",
       "      <td>-0.213000</td>\n",
       "      <td>-0.047128</td>\n",
       "      <td>0.353141</td>\n",
       "      <td>0.072424</td>\n",
       "      <td>-0.440301</td>\n",
       "      <td>0.455975</td>\n",
       "      <td>-0.053135</td>\n",
       "      <td>0.499718</td>\n",
       "      <td>0.019029</td>\n",
       "      <td>-0.000811</td>\n",
       "    </tr>\n",
       "    <tr>\n",
       "      <th>age</th>\n",
       "      <td>0.040899</td>\n",
       "      <td>-0.078608</td>\n",
       "      <td>-0.227542</td>\n",
       "      <td>-0.145886</td>\n",
       "      <td>0.670979</td>\n",
       "      <td>1.000000</td>\n",
       "      <td>-0.039425</td>\n",
       "      <td>-0.039224</td>\n",
       "      <td>0.104304</td>\n",
       "      <td>-0.221882</td>\n",
       "      <td>0.056984</td>\n",
       "      <td>0.213183</td>\n",
       "      <td>0.121738</td>\n",
       "      <td>-0.231226</td>\n",
       "      <td>0.418730</td>\n",
       "      <td>-0.062997</td>\n",
       "      <td>0.470688</td>\n",
       "      <td>0.065760</td>\n",
       "      <td>-0.120212</td>\n",
       "    </tr>\n",
       "    <tr>\n",
       "      <th>work_load_average_on_day</th>\n",
       "      <td>0.092457</td>\n",
       "      <td>-0.123472</td>\n",
       "      <td>0.005438</td>\n",
       "      <td>-0.068677</td>\n",
       "      <td>-0.000668</td>\n",
       "      <td>-0.039425</td>\n",
       "      <td>1.000000</td>\n",
       "      <td>-0.089445</td>\n",
       "      <td>0.029026</td>\n",
       "      <td>-0.074960</td>\n",
       "      <td>0.027820</td>\n",
       "      <td>-0.033713</td>\n",
       "      <td>0.030968</td>\n",
       "      <td>0.007114</td>\n",
       "      <td>-0.038522</td>\n",
       "      <td>0.103315</td>\n",
       "      <td>-0.090709</td>\n",
       "      <td>0.024749</td>\n",
       "      <td>-0.033067</td>\n",
       "    </tr>\n",
       "    <tr>\n",
       "      <th>hit_target</th>\n",
       "      <td>0.018789</td>\n",
       "      <td>0.088943</td>\n",
       "      <td>-0.080193</td>\n",
       "      <td>-0.013865</td>\n",
       "      <td>-0.007840</td>\n",
       "      <td>-0.039224</td>\n",
       "      <td>-0.089445</td>\n",
       "      <td>1.000000</td>\n",
       "      <td>-0.147971</td>\n",
       "      <td>0.101062</td>\n",
       "      <td>-0.014091</td>\n",
       "      <td>-0.102480</td>\n",
       "      <td>0.051254</td>\n",
       "      <td>0.007201</td>\n",
       "      <td>-0.044947</td>\n",
       "      <td>0.093267</td>\n",
       "      <td>-0.088939</td>\n",
       "      <td>0.026695</td>\n",
       "      <td>0.138995</td>\n",
       "    </tr>\n",
       "    <tr>\n",
       "      <th>disciplinary_failure</th>\n",
       "      <td>0.004502</td>\n",
       "      <td>-0.545054</td>\n",
       "      <td>0.109222</td>\n",
       "      <td>-0.056527</td>\n",
       "      <td>-0.000221</td>\n",
       "      <td>0.104304</td>\n",
       "      <td>0.029026</td>\n",
       "      <td>-0.147971</td>\n",
       "      <td>1.000000</td>\n",
       "      <td>-0.059298</td>\n",
       "      <td>0.072096</td>\n",
       "      <td>0.051838</td>\n",
       "      <td>0.116748</td>\n",
       "      <td>0.018881</td>\n",
       "      <td>0.072225</td>\n",
       "      <td>-0.010498</td>\n",
       "      <td>0.079428</td>\n",
       "      <td>-0.124248</td>\n",
       "      <td>-0.950735</td>\n",
       "    </tr>\n",
       "    <tr>\n",
       "      <th>education</th>\n",
       "      <td>-0.036254</td>\n",
       "      <td>-0.047357</td>\n",
       "      <td>-0.055065</td>\n",
       "      <td>-0.259605</td>\n",
       "      <td>-0.213000</td>\n",
       "      <td>-0.221882</td>\n",
       "      <td>-0.074960</td>\n",
       "      <td>0.101062</td>\n",
       "      <td>-0.059298</td>\n",
       "      <td>1.000000</td>\n",
       "      <td>-0.188622</td>\n",
       "      <td>-0.420013</td>\n",
       "      <td>0.032727</td>\n",
       "      <td>-0.053554</td>\n",
       "      <td>-0.300574</td>\n",
       "      <td>0.100977</td>\n",
       "      <td>-0.366884</td>\n",
       "      <td>-0.046235</td>\n",
       "      <td>0.066618</td>\n",
       "    </tr>\n",
       "    <tr>\n",
       "      <th>son</th>\n",
       "      <td>0.002767</td>\n",
       "      <td>-0.055364</td>\n",
       "      <td>0.383001</td>\n",
       "      <td>0.054230</td>\n",
       "      <td>-0.047128</td>\n",
       "      <td>0.056984</td>\n",
       "      <td>0.027820</td>\n",
       "      <td>-0.014091</td>\n",
       "      <td>0.072096</td>\n",
       "      <td>-0.188622</td>\n",
       "      <td>1.000000</td>\n",
       "      <td>0.206376</td>\n",
       "      <td>0.156088</td>\n",
       "      <td>0.108917</td>\n",
       "      <td>-0.139552</td>\n",
       "      <td>-0.014208</td>\n",
       "      <td>-0.144150</td>\n",
       "      <td>0.113756</td>\n",
       "      <td>-0.068544</td>\n",
       "    </tr>\n",
       "    <tr>\n",
       "      <th>social_drinker</th>\n",
       "      <td>-0.451338</td>\n",
       "      <td>0.065441</td>\n",
       "      <td>0.145117</td>\n",
       "      <td>0.452196</td>\n",
       "      <td>0.353141</td>\n",
       "      <td>0.213183</td>\n",
       "      <td>-0.033713</td>\n",
       "      <td>-0.102480</td>\n",
       "      <td>0.051838</td>\n",
       "      <td>-0.420013</td>\n",
       "      <td>0.206376</td>\n",
       "      <td>1.000000</td>\n",
       "      <td>-0.111678</td>\n",
       "      <td>-0.122780</td>\n",
       "      <td>0.378664</td>\n",
       "      <td>0.169951</td>\n",
       "      <td>0.323978</td>\n",
       "      <td>0.065067</td>\n",
       "      <td>-0.046450</td>\n",
       "    </tr>\n",
       "    <tr>\n",
       "      <th>social_smoker</th>\n",
       "      <td>-0.010826</td>\n",
       "      <td>-0.115702</td>\n",
       "      <td>0.044356</td>\n",
       "      <td>-0.075369</td>\n",
       "      <td>0.072424</td>\n",
       "      <td>0.121738</td>\n",
       "      <td>0.030968</td>\n",
       "      <td>0.051254</td>\n",
       "      <td>0.116748</td>\n",
       "      <td>0.032727</td>\n",
       "      <td>0.156088</td>\n",
       "      <td>-0.111678</td>\n",
       "      <td>1.000000</td>\n",
       "      <td>0.105379</td>\n",
       "      <td>-0.198511</td>\n",
       "      <td>0.003271</td>\n",
       "      <td>-0.196006</td>\n",
       "      <td>-0.008936</td>\n",
       "      <td>-0.105221</td>\n",
       "    </tr>\n",
       "    <tr>\n",
       "      <th>pet</th>\n",
       "      <td>-0.041418</td>\n",
       "      <td>-0.055911</td>\n",
       "      <td>0.400080</td>\n",
       "      <td>0.205941</td>\n",
       "      <td>-0.440301</td>\n",
       "      <td>-0.231226</td>\n",
       "      <td>0.007114</td>\n",
       "      <td>0.007201</td>\n",
       "      <td>0.018881</td>\n",
       "      <td>-0.053554</td>\n",
       "      <td>0.108917</td>\n",
       "      <td>-0.122780</td>\n",
       "      <td>0.105379</td>\n",
       "      <td>1.000000</td>\n",
       "      <td>-0.103770</td>\n",
       "      <td>-0.103143</td>\n",
       "      <td>-0.076103</td>\n",
       "      <td>-0.028277</td>\n",
       "      <td>-0.052826</td>\n",
       "    </tr>\n",
       "    <tr>\n",
       "      <th>weight</th>\n",
       "      <td>-0.254222</td>\n",
       "      <td>-0.000269</td>\n",
       "      <td>-0.207435</td>\n",
       "      <td>-0.047859</td>\n",
       "      <td>0.455975</td>\n",
       "      <td>0.418730</td>\n",
       "      <td>-0.038522</td>\n",
       "      <td>-0.044947</td>\n",
       "      <td>0.072225</td>\n",
       "      <td>-0.300574</td>\n",
       "      <td>-0.139552</td>\n",
       "      <td>0.378664</td>\n",
       "      <td>-0.198511</td>\n",
       "      <td>-0.103770</td>\n",
       "      <td>1.000000</td>\n",
       "      <td>0.306802</td>\n",
       "      <td>0.904117</td>\n",
       "      <td>0.015789</td>\n",
       "      <td>-0.087640</td>\n",
       "    </tr>\n",
       "    <tr>\n",
       "      <th>height</th>\n",
       "      <td>0.076363</td>\n",
       "      <td>-0.079267</td>\n",
       "      <td>-0.194496</td>\n",
       "      <td>-0.353372</td>\n",
       "      <td>-0.053135</td>\n",
       "      <td>-0.062997</td>\n",
       "      <td>0.103315</td>\n",
       "      <td>0.093267</td>\n",
       "      <td>-0.010498</td>\n",
       "      <td>0.100977</td>\n",
       "      <td>-0.014208</td>\n",
       "      <td>0.169951</td>\n",
       "      <td>0.003271</td>\n",
       "      <td>-0.103143</td>\n",
       "      <td>0.306802</td>\n",
       "      <td>1.000000</td>\n",
       "      <td>-0.121049</td>\n",
       "      <td>0.144420</td>\n",
       "      <td>0.011421</td>\n",
       "    </tr>\n",
       "    <tr>\n",
       "      <th>body_mass_index</th>\n",
       "      <td>-0.306924</td>\n",
       "      <td>0.037205</td>\n",
       "      <td>-0.136517</td>\n",
       "      <td>0.113772</td>\n",
       "      <td>0.499718</td>\n",
       "      <td>0.470688</td>\n",
       "      <td>-0.090709</td>\n",
       "      <td>-0.088939</td>\n",
       "      <td>0.079428</td>\n",
       "      <td>-0.366884</td>\n",
       "      <td>-0.144150</td>\n",
       "      <td>0.323978</td>\n",
       "      <td>-0.196006</td>\n",
       "      <td>-0.076103</td>\n",
       "      <td>0.904117</td>\n",
       "      <td>-0.121049</td>\n",
       "      <td>1.000000</td>\n",
       "      <td>-0.049719</td>\n",
       "      <td>-0.096354</td>\n",
       "    </tr>\n",
       "    <tr>\n",
       "      <th>absenteeism_time_in_hours</th>\n",
       "      <td>-0.017997</td>\n",
       "      <td>-0.173116</td>\n",
       "      <td>0.027585</td>\n",
       "      <td>-0.088363</td>\n",
       "      <td>0.019029</td>\n",
       "      <td>0.065760</td>\n",
       "      <td>0.024749</td>\n",
       "      <td>0.026695</td>\n",
       "      <td>-0.124248</td>\n",
       "      <td>-0.046235</td>\n",
       "      <td>0.113756</td>\n",
       "      <td>0.065067</td>\n",
       "      <td>-0.008936</td>\n",
       "      <td>-0.028277</td>\n",
       "      <td>0.015789</td>\n",
       "      <td>0.144420</td>\n",
       "      <td>-0.049719</td>\n",
       "      <td>1.000000</td>\n",
       "      <td>0.130686</td>\n",
       "    </tr>\n",
       "    <tr>\n",
       "      <th>absence_status</th>\n",
       "      <td>-0.008938</td>\n",
       "      <td>0.554990</td>\n",
       "      <td>-0.083998</td>\n",
       "      <td>0.059649</td>\n",
       "      <td>-0.000811</td>\n",
       "      <td>-0.120212</td>\n",
       "      <td>-0.033067</td>\n",
       "      <td>0.138995</td>\n",
       "      <td>-0.950735</td>\n",
       "      <td>0.066618</td>\n",
       "      <td>-0.068544</td>\n",
       "      <td>-0.046450</td>\n",
       "      <td>-0.105221</td>\n",
       "      <td>-0.052826</td>\n",
       "      <td>-0.087640</td>\n",
       "      <td>0.011421</td>\n",
       "      <td>-0.096354</td>\n",
       "      <td>0.130686</td>\n",
       "      <td>1.000000</td>\n",
       "    </tr>\n",
       "  </tbody>\n",
       "</table>\n",
       "</div>"
      ],
      "text/plain": [
       "                                       id  reason_for_absence  \\\n",
       "id                               1.000000           -0.064245   \n",
       "reason_for_absence              -0.064245            1.000000   \n",
       "transportation_expense          -0.224163           -0.119381   \n",
       "distance_from_residence_to_work -0.486160            0.161831   \n",
       "service_time                    -0.272704            0.048425   \n",
       "age                              0.040899           -0.078608   \n",
       "work_load_average_on_day         0.092457           -0.123472   \n",
       "hit_target                       0.018789            0.088943   \n",
       "disciplinary_failure             0.004502           -0.545054   \n",
       "education                       -0.036254           -0.047357   \n",
       "son                              0.002767           -0.055364   \n",
       "social_drinker                  -0.451338            0.065441   \n",
       "social_smoker                   -0.010826           -0.115702   \n",
       "pet                             -0.041418           -0.055911   \n",
       "weight                          -0.254222           -0.000269   \n",
       "height                           0.076363           -0.079267   \n",
       "body_mass_index                 -0.306924            0.037205   \n",
       "absenteeism_time_in_hours       -0.017997           -0.173116   \n",
       "absence_status                  -0.008938            0.554990   \n",
       "\n",
       "                                 transportation_expense  \\\n",
       "id                                            -0.224163   \n",
       "reason_for_absence                            -0.119381   \n",
       "transportation_expense                         1.000000   \n",
       "distance_from_residence_to_work                0.262183   \n",
       "service_time                                  -0.349887   \n",
       "age                                           -0.227542   \n",
       "work_load_average_on_day                       0.005438   \n",
       "hit_target                                    -0.080193   \n",
       "disciplinary_failure                           0.109222   \n",
       "education                                     -0.055065   \n",
       "son                                            0.383001   \n",
       "social_drinker                                 0.145117   \n",
       "social_smoker                                  0.044356   \n",
       "pet                                            0.400080   \n",
       "weight                                        -0.207435   \n",
       "height                                        -0.194496   \n",
       "body_mass_index                               -0.136517   \n",
       "absenteeism_time_in_hours                      0.027585   \n",
       "absence_status                                -0.083998   \n",
       "\n",
       "                                 distance_from_residence_to_work  \\\n",
       "id                                                     -0.486160   \n",
       "reason_for_absence                                      0.161831   \n",
       "transportation_expense                                  0.262183   \n",
       "distance_from_residence_to_work                         1.000000   \n",
       "service_time                                            0.131730   \n",
       "age                                                    -0.145886   \n",
       "work_load_average_on_day                               -0.068677   \n",
       "hit_target                                             -0.013865   \n",
       "disciplinary_failure                                   -0.056527   \n",
       "education                                              -0.259605   \n",
       "son                                                     0.054230   \n",
       "social_drinker                                          0.452196   \n",
       "social_smoker                                          -0.075369   \n",
       "pet                                                     0.205941   \n",
       "weight                                                 -0.047859   \n",
       "height                                                 -0.353372   \n",
       "body_mass_index                                         0.113772   \n",
       "absenteeism_time_in_hours                              -0.088363   \n",
       "absence_status                                          0.059649   \n",
       "\n",
       "                                 service_time       age  \\\n",
       "id                                  -0.272704  0.040899   \n",
       "reason_for_absence                   0.048425 -0.078608   \n",
       "transportation_expense              -0.349887 -0.227542   \n",
       "distance_from_residence_to_work      0.131730 -0.145886   \n",
       "service_time                         1.000000  0.670979   \n",
       "age                                  0.670979  1.000000   \n",
       "work_load_average_on_day            -0.000668 -0.039425   \n",
       "hit_target                          -0.007840 -0.039224   \n",
       "disciplinary_failure                -0.000221  0.104304   \n",
       "education                           -0.213000 -0.221882   \n",
       "son                                 -0.047128  0.056984   \n",
       "social_drinker                       0.353141  0.213183   \n",
       "social_smoker                        0.072424  0.121738   \n",
       "pet                                 -0.440301 -0.231226   \n",
       "weight                               0.455975  0.418730   \n",
       "height                              -0.053135 -0.062997   \n",
       "body_mass_index                      0.499718  0.470688   \n",
       "absenteeism_time_in_hours            0.019029  0.065760   \n",
       "absence_status                      -0.000811 -0.120212   \n",
       "\n",
       "                                 work_load_average_on_day  hit_target  \\\n",
       "id                                               0.092457    0.018789   \n",
       "reason_for_absence                              -0.123472    0.088943   \n",
       "transportation_expense                           0.005438   -0.080193   \n",
       "distance_from_residence_to_work                 -0.068677   -0.013865   \n",
       "service_time                                    -0.000668   -0.007840   \n",
       "age                                             -0.039425   -0.039224   \n",
       "work_load_average_on_day                         1.000000   -0.089445   \n",
       "hit_target                                      -0.089445    1.000000   \n",
       "disciplinary_failure                             0.029026   -0.147971   \n",
       "education                                       -0.074960    0.101062   \n",
       "son                                              0.027820   -0.014091   \n",
       "social_drinker                                  -0.033713   -0.102480   \n",
       "social_smoker                                    0.030968    0.051254   \n",
       "pet                                              0.007114    0.007201   \n",
       "weight                                          -0.038522   -0.044947   \n",
       "height                                           0.103315    0.093267   \n",
       "body_mass_index                                 -0.090709   -0.088939   \n",
       "absenteeism_time_in_hours                        0.024749    0.026695   \n",
       "absence_status                                  -0.033067    0.138995   \n",
       "\n",
       "                                 disciplinary_failure  education       son  \\\n",
       "id                                           0.004502  -0.036254  0.002767   \n",
       "reason_for_absence                          -0.545054  -0.047357 -0.055364   \n",
       "transportation_expense                       0.109222  -0.055065  0.383001   \n",
       "distance_from_residence_to_work             -0.056527  -0.259605  0.054230   \n",
       "service_time                                -0.000221  -0.213000 -0.047128   \n",
       "age                                          0.104304  -0.221882  0.056984   \n",
       "work_load_average_on_day                     0.029026  -0.074960  0.027820   \n",
       "hit_target                                  -0.147971   0.101062 -0.014091   \n",
       "disciplinary_failure                         1.000000  -0.059298  0.072096   \n",
       "education                                   -0.059298   1.000000 -0.188622   \n",
       "son                                          0.072096  -0.188622  1.000000   \n",
       "social_drinker                               0.051838  -0.420013  0.206376   \n",
       "social_smoker                                0.116748   0.032727  0.156088   \n",
       "pet                                          0.018881  -0.053554  0.108917   \n",
       "weight                                       0.072225  -0.300574 -0.139552   \n",
       "height                                      -0.010498   0.100977 -0.014208   \n",
       "body_mass_index                              0.079428  -0.366884 -0.144150   \n",
       "absenteeism_time_in_hours                   -0.124248  -0.046235  0.113756   \n",
       "absence_status                              -0.950735   0.066618 -0.068544   \n",
       "\n",
       "                                 social_drinker  social_smoker       pet  \\\n",
       "id                                    -0.451338      -0.010826 -0.041418   \n",
       "reason_for_absence                     0.065441      -0.115702 -0.055911   \n",
       "transportation_expense                 0.145117       0.044356  0.400080   \n",
       "distance_from_residence_to_work        0.452196      -0.075369  0.205941   \n",
       "service_time                           0.353141       0.072424 -0.440301   \n",
       "age                                    0.213183       0.121738 -0.231226   \n",
       "work_load_average_on_day              -0.033713       0.030968  0.007114   \n",
       "hit_target                            -0.102480       0.051254  0.007201   \n",
       "disciplinary_failure                   0.051838       0.116748  0.018881   \n",
       "education                             -0.420013       0.032727 -0.053554   \n",
       "son                                    0.206376       0.156088  0.108917   \n",
       "social_drinker                         1.000000      -0.111678 -0.122780   \n",
       "social_smoker                         -0.111678       1.000000  0.105379   \n",
       "pet                                   -0.122780       0.105379  1.000000   \n",
       "weight                                 0.378664      -0.198511 -0.103770   \n",
       "height                                 0.169951       0.003271 -0.103143   \n",
       "body_mass_index                        0.323978      -0.196006 -0.076103   \n",
       "absenteeism_time_in_hours              0.065067      -0.008936 -0.028277   \n",
       "absence_status                        -0.046450      -0.105221 -0.052826   \n",
       "\n",
       "                                   weight    height  body_mass_index  \\\n",
       "id                              -0.254222  0.076363        -0.306924   \n",
       "reason_for_absence              -0.000269 -0.079267         0.037205   \n",
       "transportation_expense          -0.207435 -0.194496        -0.136517   \n",
       "distance_from_residence_to_work -0.047859 -0.353372         0.113772   \n",
       "service_time                     0.455975 -0.053135         0.499718   \n",
       "age                              0.418730 -0.062997         0.470688   \n",
       "work_load_average_on_day        -0.038522  0.103315        -0.090709   \n",
       "hit_target                      -0.044947  0.093267        -0.088939   \n",
       "disciplinary_failure             0.072225 -0.010498         0.079428   \n",
       "education                       -0.300574  0.100977        -0.366884   \n",
       "son                             -0.139552 -0.014208        -0.144150   \n",
       "social_drinker                   0.378664  0.169951         0.323978   \n",
       "social_smoker                   -0.198511  0.003271        -0.196006   \n",
       "pet                             -0.103770 -0.103143        -0.076103   \n",
       "weight                           1.000000  0.306802         0.904117   \n",
       "height                           0.306802  1.000000        -0.121049   \n",
       "body_mass_index                  0.904117 -0.121049         1.000000   \n",
       "absenteeism_time_in_hours        0.015789  0.144420        -0.049719   \n",
       "absence_status                  -0.087640  0.011421        -0.096354   \n",
       "\n",
       "                                 absenteeism_time_in_hours  absence_status  \n",
       "id                                               -0.017997       -0.008938  \n",
       "reason_for_absence                               -0.173116        0.554990  \n",
       "transportation_expense                            0.027585       -0.083998  \n",
       "distance_from_residence_to_work                  -0.088363        0.059649  \n",
       "service_time                                      0.019029       -0.000811  \n",
       "age                                               0.065760       -0.120212  \n",
       "work_load_average_on_day                          0.024749       -0.033067  \n",
       "hit_target                                        0.026695        0.138995  \n",
       "disciplinary_failure                             -0.124248       -0.950735  \n",
       "education                                        -0.046235        0.066618  \n",
       "son                                               0.113756       -0.068544  \n",
       "social_drinker                                    0.065067       -0.046450  \n",
       "social_smoker                                    -0.008936       -0.105221  \n",
       "pet                                              -0.028277       -0.052826  \n",
       "weight                                            0.015789       -0.087640  \n",
       "height                                            0.144420        0.011421  \n",
       "body_mass_index                                  -0.049719       -0.096354  \n",
       "absenteeism_time_in_hours                         1.000000        0.130686  \n",
       "absence_status                                    0.130686        1.000000  "
      ]
     },
     "execution_count": 47,
     "metadata": {},
     "output_type": "execute_result"
    }
   ],
   "source": [
    "# check the correlation table \n",
    "df_clean.corr()"
   ]
  },
  {
   "cell_type": "code",
   "execution_count": 246,
   "metadata": {},
   "outputs": [
    {
     "data": {
      "image/png": "[encoded data removed]",
      "text/plain": [
       "<Figure size 1548x432 with 2 Axes>"
      ]
     },
     "metadata": {
      "needs_background": "light"
     },
     "output_type": "display_data"
    }
   ],
   "source": [
    "fig, ax = plt.subplots(1,2)\n",
    "fig.set_size_inches(21.5, 6)\n",
    "\n",
    "# correlation between distance_from_residence_to_work and absenteeism_time_in_hours\n",
    "\n",
    "ax[0].scatter(df_clean.distance_from_residence_to_work, \n",
    "                df_clean.absenteeism_time_in_hours,\n",
    "                color=\"#077b8a\", alpha=0.5)\n",
    "\n",
    "ax[0].set_xlabel(\"Distance from residence to work\", fontsize=16, color=\"k\")\n",
    "ax[0].set_ylabel(\"Total absenteeism hours\", fontsize=16, color=\"k\")\n",
    "ax[0].set_title(\"Distance to work vs Absence\", fontsize=19, color=\"k\", pad=20)\n",
    "\n",
    "\n",
    "# correlation between Transportation expense and absenteeism_time_in_hours\n",
    "\n",
    "ax[1].scatter(df_clean.transportation_expense, \n",
    "                df_clean.absenteeism_time_in_hours,\n",
    "                color=\"tomato\", alpha=0.5)\n",
    "\n",
    "ax[1].set_xlabel(\"Transportation expense\", fontsize=16, color=\"k\")\n",
    "ax[1].set_ylabel(\"Total absenteeism hours\", fontsize=16, color=\"k\")\n",
    "ax[1].set_title(\"Transportation expense vs Absence\", fontsize=19, color=\"k\", pad=20)\n",
    "\n",
    "\n",
    "plt.show()"
   ]
  },
  {
   "cell_type": "code",
   "execution_count": 234,
   "metadata": {},
   "outputs": [
    {
     "data": {
      "image/png": "[encoded data removed]",
      "text/plain": [
       "<Figure size 1548x432 with 2 Axes>"
      ]
     },
     "metadata": {
      "needs_background": "light"
     },
     "output_type": "display_data"
    }
   ],
   "source": [
    "fig, ax = plt.subplots(1,2)\n",
    "fig.set_size_inches(21.5, 6)\n",
    "\n",
    "# correlation between education and absenteeism time_in_hours\n",
    "\n",
    "ax[0].scatter(df_clean.education, \n",
    "                df_clean.absenteeism_time_in_hours,\n",
    "                color=\"#0d1137\", alpha=0.4)\n",
    "\n",
    "ax[0].set_xlabel(\"Education\", fontsize=16, color=\"k\")\n",
    "ax[0].set_ylabel(\"Total absenteeism hours\", fontsize=16, color=\"k\")\n",
    "ax[0].set_title(\"Education vs Absence\", fontsize=19, color=\"k\", pad=20)\n",
    "\n",
    "\n",
    "# correlation between Age and absenteeism_time_in_hours\n",
    "\n",
    "ax[1].scatter(df_clean.age, \n",
    "                df_clean.absenteeism_time_in_hours,\n",
    "                color=\"#e52165\", alpha=0.4)\n",
    "\n",
    "ax[1].set_xlabel(\"Number od sons\", fontsize=16, color=\"k\")\n",
    "ax[1].set_ylabel(\"Total absenteeism hours\", fontsize=16, color=\"k\")\n",
    "ax[1].set_title(\"Age vs Absence\", fontsize=19, color=\"k\", pad=20)\n",
    "\n",
    "\n",
    "plt.show()"
   ]
  },
  {
   "cell_type": "code",
   "execution_count": 236,
   "metadata": {},
   "outputs": [
    {
     "data": {
      "image/png": "[encoded data removed]",
      "text/plain": [
       "<Figure size 1548x432 with 2 Axes>"
      ]
     },
     "metadata": {
      "needs_background": "light"
     },
     "output_type": "display_data"
    }
   ],
   "source": [
    "fig, ax = plt.subplots(1,2)\n",
    "fig.set_size_inches(21.5, 6)\n",
    "\n",
    "# correlation between service_time and absenteeism time_in_hours\n",
    "\n",
    "ax[0].scatter(df_clean.service_time, \n",
    "                df_clean.absenteeism_time_in_hours,\n",
    "                color=\"goldenrod\", alpha=0.4)\n",
    "\n",
    "ax[0].set_xlabel(\"service_time\", fontsize=16, color=\"k\")\n",
    "ax[0].set_ylabel(\"Total absenteeism hours\", fontsize=16, color=\"k\")\n",
    "ax[0].set_title(\"Service time vs Absence\", fontsize=19, color=\"k\", pad=20)\n",
    "\n",
    "\n",
    "# correlation between Hit target and absenteeism_time_in_hours\n",
    "\n",
    "ax[1].scatter(df_clean.hit_target, \n",
    "                df_clean.absenteeism_time_in_hours,\n",
    "                color=\"#b20238\", alpha=0.4)\n",
    "\n",
    "ax[1].set_xlabel(\"Hit target\", fontsize=16, color=\"k\")\n",
    "ax[1].set_ylabel(\"Total absenteeism hours\", fontsize=16, color=\"k\")\n",
    "ax[1].set_title(\"Hit target vs Absence\", fontsize=19, color=\"k\", pad=20)\n",
    "\n",
    "\n",
    "plt.show()"
   ]
  },
  {
   "cell_type": "code",
   "execution_count": 238,
   "metadata": {},
   "outputs": [
    {
     "data": {
      "image/png": "[encoded data removed]",
      "text/plain": [
       "<Figure size 1548x432 with 2 Axes>"
      ]
     },
     "metadata": {
      "needs_background": "light"
     },
     "output_type": "display_data"
    }
   ],
   "source": [
    "fig, ax = plt.subplots(1,2)\n",
    "fig.set_size_inches(21.5, 6)\n",
    "\n",
    "# correlation between work_load_average_on_day and absenteeism time_in_hours\n",
    "\n",
    "ax[0].scatter(df_clean.work_load_average_on_day, \n",
    "                df_clean.absenteeism_time_in_hours,\n",
    "                color=\"#7a2048\", alpha=0.4)\n",
    "\n",
    "ax[0].set_xlabel(\"Work load average on day\", fontsize=16, color=\"k\")\n",
    "ax[0].set_ylabel(\"Total absenteeism hours\", fontsize=16, color=\"k\")\n",
    "ax[0].set_title(\"Work load vs Absence\", fontsize=19, color=\"k\", pad=20)\n",
    "\n",
    "\n",
    "# correlation between Body mass and absenteeism_time_in_hours\n",
    "\n",
    "ax[1].scatter(df_clean.body_mass_index, \n",
    "                df_clean.absenteeism_time_in_hours,\n",
    "                color=\"#1e2761\", alpha=0.4)\n",
    "\n",
    "ax[1].set_xlabel(\"Body mass\", fontsize=16, color=\"k\")\n",
    "ax[1].set_ylabel(\"Total absenteeism hours\", fontsize=16, color=\"k\")\n",
    "ax[1].set_title(\"Body mass vs Absence\", fontsize=19, color=\"k\", pad=20)\n",
    "\n",
    "\n",
    "plt.show()"
   ]
  },
  {
   "cell_type": "code",
   "execution_count": 240,
   "metadata": {},
   "outputs": [
    {
     "data": {
      "image/png": "[encoded data removed]",
      "text/plain": [
       "<Figure size 648x360 with 1 Axes>"
      ]
     },
     "metadata": {
      "needs_background": "light"
     },
     "output_type": "display_data"
    }
   ],
   "source": [
    "fig, ax = plt.subplots()\n",
    "fig.set_size_inches(9, 5)\n",
    "\n",
    "# correlation between pet and absenteeism time_in_hours\n",
    "\n",
    "ax.scatter(df_clean.pet, \n",
    "                df_clean.absenteeism_time_in_hours,\n",
    "                color=\"#1d3c45\", alpha=0.5)\n",
    "\n",
    "ax.set_xlabel(\"Pet numbers\", fontsize=16, color=\"k\")\n",
    "ax.set_ylabel(\"Total absenteeism hours\", fontsize=16, color=\"k\")\n",
    "ax.set_title(\"Pet number vs Absence\", fontsize=19, color=\"k\", pad=20)\n",
    "\n",
    "\n",
    "plt.show()"
   ]
  },
  {
   "cell_type": "markdown",
   "metadata": {},
   "source": [
    "### Answer 5\n",
    "\n",
    "* **From above visualisations we can conclude that there is no strong correlation between any variable and total hours of absence.**"
   ]
  },
  {
   "cell_type": "markdown",
   "metadata": {},
   "source": [
    "<a id='linreg'></a>\n",
    "# Linear Regression models"
   ]
  },
  {
   "cell_type": "markdown",
   "metadata": {},
   "source": [
    "### Research Question 6\n",
    "> ####  Which variables are statistically significant to predict absence?"
   ]
  },
  {
   "cell_type": "markdown",
   "metadata": {},
   "source": [
    "### I need another dataset copy for Regression models so I will make some changes and save  it on df_reg"
   ]
  },
  {
   "cell_type": "code",
   "execution_count": 164,
   "metadata": {},
   "outputs": [
    {
     "data": {
      "text/html": [
       "<div>\n",
       "<style scoped>\n",
       "    .dataframe tbody tr th:only-of-type {\n",
       "        vertical-align: middle;\n",
       "    }\n",
       "\n",
       "    .dataframe tbody tr th {\n",
       "        vertical-align: top;\n",
       "    }\n",
       "\n",
       "    .dataframe thead th {\n",
       "        text-align: right;\n",
       "    }\n",
       "</style>\n",
       "<table border=\"1\" class=\"dataframe\">\n",
       "  <thead>\n",
       "    <tr style=\"text-align: right;\">\n",
       "      <th></th>\n",
       "      <th>id</th>\n",
       "      <th>reason_for_absence</th>\n",
       "      <th>month_of_absence</th>\n",
       "      <th>day_of_the_week</th>\n",
       "      <th>seasons</th>\n",
       "      <th>transportation_expense</th>\n",
       "      <th>distance_from_residence_to_work</th>\n",
       "      <th>service_time</th>\n",
       "      <th>age</th>\n",
       "      <th>work_load_average_on_day</th>\n",
       "      <th>...</th>\n",
       "      <th>social_drinker</th>\n",
       "      <th>social_smoker</th>\n",
       "      <th>pet</th>\n",
       "      <th>weight</th>\n",
       "      <th>height</th>\n",
       "      <th>body_mass_index</th>\n",
       "      <th>absenteeism_time_in_hours</th>\n",
       "      <th>absence_status</th>\n",
       "      <th>absence_level</th>\n",
       "      <th>absence_reason</th>\n",
       "    </tr>\n",
       "  </thead>\n",
       "  <tbody>\n",
       "    <tr>\n",
       "      <th>0</th>\n",
       "      <td>11</td>\n",
       "      <td>26</td>\n",
       "      <td>7</td>\n",
       "      <td>3</td>\n",
       "      <td>1</td>\n",
       "      <td>289</td>\n",
       "      <td>36</td>\n",
       "      <td>13</td>\n",
       "      <td>33</td>\n",
       "      <td>239.554</td>\n",
       "      <td>...</td>\n",
       "      <td>1</td>\n",
       "      <td>0</td>\n",
       "      <td>1</td>\n",
       "      <td>90</td>\n",
       "      <td>172</td>\n",
       "      <td>30</td>\n",
       "      <td>4</td>\n",
       "      <td>1</td>\n",
       "      <td>2</td>\n",
       "      <td>2</td>\n",
       "    </tr>\n",
       "    <tr>\n",
       "      <th>1</th>\n",
       "      <td>36</td>\n",
       "      <td>0</td>\n",
       "      <td>7</td>\n",
       "      <td>3</td>\n",
       "      <td>1</td>\n",
       "      <td>118</td>\n",
       "      <td>13</td>\n",
       "      <td>18</td>\n",
       "      <td>50</td>\n",
       "      <td>239.554</td>\n",
       "      <td>...</td>\n",
       "      <td>1</td>\n",
       "      <td>0</td>\n",
       "      <td>0</td>\n",
       "      <td>98</td>\n",
       "      <td>178</td>\n",
       "      <td>31</td>\n",
       "      <td>0</td>\n",
       "      <td>0</td>\n",
       "      <td>0</td>\n",
       "      <td>0</td>\n",
       "    </tr>\n",
       "    <tr>\n",
       "      <th>2</th>\n",
       "      <td>3</td>\n",
       "      <td>23</td>\n",
       "      <td>7</td>\n",
       "      <td>4</td>\n",
       "      <td>1</td>\n",
       "      <td>179</td>\n",
       "      <td>51</td>\n",
       "      <td>18</td>\n",
       "      <td>38</td>\n",
       "      <td>239.554</td>\n",
       "      <td>...</td>\n",
       "      <td>1</td>\n",
       "      <td>0</td>\n",
       "      <td>0</td>\n",
       "      <td>89</td>\n",
       "      <td>170</td>\n",
       "      <td>31</td>\n",
       "      <td>2</td>\n",
       "      <td>1</td>\n",
       "      <td>0</td>\n",
       "      <td>2</td>\n",
       "    </tr>\n",
       "    <tr>\n",
       "      <th>3</th>\n",
       "      <td>7</td>\n",
       "      <td>7</td>\n",
       "      <td>7</td>\n",
       "      <td>5</td>\n",
       "      <td>1</td>\n",
       "      <td>279</td>\n",
       "      <td>5</td>\n",
       "      <td>14</td>\n",
       "      <td>39</td>\n",
       "      <td>239.554</td>\n",
       "      <td>...</td>\n",
       "      <td>1</td>\n",
       "      <td>1</td>\n",
       "      <td>0</td>\n",
       "      <td>68</td>\n",
       "      <td>168</td>\n",
       "      <td>24</td>\n",
       "      <td>4</td>\n",
       "      <td>1</td>\n",
       "      <td>2</td>\n",
       "      <td>1</td>\n",
       "    </tr>\n",
       "    <tr>\n",
       "      <th>4</th>\n",
       "      <td>11</td>\n",
       "      <td>23</td>\n",
       "      <td>7</td>\n",
       "      <td>5</td>\n",
       "      <td>1</td>\n",
       "      <td>289</td>\n",
       "      <td>36</td>\n",
       "      <td>13</td>\n",
       "      <td>33</td>\n",
       "      <td>239.554</td>\n",
       "      <td>...</td>\n",
       "      <td>1</td>\n",
       "      <td>0</td>\n",
       "      <td>1</td>\n",
       "      <td>90</td>\n",
       "      <td>172</td>\n",
       "      <td>30</td>\n",
       "      <td>2</td>\n",
       "      <td>1</td>\n",
       "      <td>0</td>\n",
       "      <td>2</td>\n",
       "    </tr>\n",
       "  </tbody>\n",
       "</table>\n",
       "<p>5 rows × 24 columns</p>\n",
       "</div>"
      ],
      "text/plain": [
       "   id  reason_for_absence  month_of_absence  day_of_the_week  seasons  \\\n",
       "0  11                  26                 7                3        1   \n",
       "1  36                   0                 7                3        1   \n",
       "2   3                  23                 7                4        1   \n",
       "3   7                   7                 7                5        1   \n",
       "4  11                  23                 7                5        1   \n",
       "\n",
       "   transportation_expense  distance_from_residence_to_work  service_time  age  \\\n",
       "0                     289                               36            13   33   \n",
       "1                     118                               13            18   50   \n",
       "2                     179                               51            18   38   \n",
       "3                     279                                5            14   39   \n",
       "4                     289                               36            13   33   \n",
       "\n",
       "   work_load_average_on_day  ...  social_drinker  social_smoker  pet  weight  \\\n",
       "0                   239.554  ...               1              0    1      90   \n",
       "1                   239.554  ...               1              0    0      98   \n",
       "2                   239.554  ...               1              0    0      89   \n",
       "3                   239.554  ...               1              1    0      68   \n",
       "4                   239.554  ...               1              0    1      90   \n",
       "\n",
       "   height  body_mass_index  absenteeism_time_in_hours  absence_status  \\\n",
       "0     172               30                          4               1   \n",
       "1     178               31                          0               0   \n",
       "2     170               31                          2               1   \n",
       "3     168               24                          4               1   \n",
       "4     172               30                          2               1   \n",
       "\n",
       "   absence_level  absence_reason  \n",
       "0              2               2  \n",
       "1              0               0  \n",
       "2              0               2  \n",
       "3              2               1  \n",
       "4              0               2  \n",
       "\n",
       "[5 rows x 24 columns]"
      ]
     },
     "execution_count": 164,
     "metadata": {},
     "output_type": "execute_result"
    }
   ],
   "source": [
    "df_reg[\"absence_status\"] = df_clean.absence_status\n",
    "df_reg[\"absence_level\"] = df_clean.absence_level.replace({\"No\":0, \"Low\":\"1\",\"Medium\":\"2\", \"High\":\"3\"})\n",
    "df_reg[\"absence_reason\"] = df_clean.absence_reason.replace({\"No_absence\":0, \"Medical\":\"1\",\"Not_Medical\":\"2\"})\n",
    "df_reg.head()"
   ]
  },
  {
   "cell_type": "code",
   "execution_count": 262,
   "metadata": {},
   "outputs": [
    {
     "data": {
      "text/plain": [
       "(<class 'statsmodels.iolib.summary.Summary'>\n",
       " \"\"\"\n",
       "                                 OLS Regression Results                               \n",
       " =====================================================================================\n",
       " Dep. Variable:     absenteeism_time_in_hours   R-squared:                       0.022\n",
       " Model:                                   OLS   Adj. R-squared:                  0.012\n",
       " Method:                        Least Squares   F-statistic:                     2.307\n",
       " Date:                       Sat, 19 Feb 2022   Prob (F-statistic):             0.0248\n",
       " Time:                               18:54:17   Log-Likelihood:                -2958.1\n",
       " No. Observations:                        740   AIC:                             5932.\n",
       " Df Residuals:                            732   BIC:                             5969.\n",
       " Df Model:                                  7                                         \n",
       " Covariance Type:                   nonrobust                                         \n",
       " ===========================================================================================\n",
       "                               coef    std err          t      P>|t|      [0.025      0.975]\n",
       " -------------------------------------------------------------------------------------------\n",
       " Intercept                   9.4992      1.367      6.950      0.000       6.816      12.183\n",
       " C(day_of_the_week)[T.3]    -1.1082      1.498     -0.740      0.460      -4.050       1.834\n",
       " C(day_of_the_week)[T.4]    -2.1435      1.491     -1.437      0.151      -5.071       0.784\n",
       " C(day_of_the_week)[T.5]    -4.7433      1.580     -3.001      0.003      -7.846      -1.641\n",
       " C(day_of_the_week)[T.6]    -4.1444      1.521     -2.725      0.007      -7.131      -1.158\n",
       " C(seasons)[T.2]            -1.2364      1.397     -0.885      0.376      -3.979       1.506\n",
       " C(seasons)[T.3]             1.0014      1.425      0.703      0.482      -1.796       3.798\n",
       " C(seasons)[T.4]            -0.8028      1.393     -0.576      0.565      -3.537       1.931\n",
       " ==============================================================================\n",
       " Omnibus:                      838.208   Durbin-Watson:                   2.002\n",
       " Prob(Omnibus):                  0.000   Jarque-Bera (JB):            48133.166\n",
       " Skew:                           5.615   Prob(JB):                         0.00\n",
       " Kurtosis:                      40.881   Cond. No.                         6.25\n",
       " ==============================================================================\n",
       " \n",
       " Notes:\n",
       " [1] Standard Errors assume that the covariance matrix of the errors is correctly specified.\n",
       " \"\"\",\n",
       " <class 'statsmodels.iolib.summary.Summary'>\n",
       " \"\"\"\n",
       "                                 OLS Regression Results                               \n",
       " =====================================================================================\n",
       " Dep. Variable:     absenteeism_time_in_hours   R-squared:                       0.015\n",
       " Model:                                   OLS   Adj. R-squared:                  0.009\n",
       " Method:                        Least Squares   F-statistic:                     2.267\n",
       " Date:                       Sat, 19 Feb 2022   Prob (F-statistic):             0.0462\n",
       " Time:                               18:54:17   Log-Likelihood:                -2960.5\n",
       " No. Observations:                        740   AIC:                             5933.\n",
       " Df Residuals:                            734   BIC:                             5961.\n",
       " Df Model:                                  5                                         \n",
       " Covariance Type:                   nonrobust                                         \n",
       " ===================================================================================================\n",
       "                                       coef    std err          t      P>|t|      [0.025      0.975]\n",
       " ---------------------------------------------------------------------------------------------------\n",
       " Intercept                          -9.1940     13.543     -0.679      0.497     -35.781      17.393\n",
       " transportation_expense              0.0166      0.008      1.997      0.046       0.000       0.033\n",
       " distance_from_residence_to_work    -0.1049      0.035     -2.972      0.003      -0.174      -0.036\n",
       " service_time                        0.1939      0.123      1.579      0.115      -0.047       0.435\n",
       " work_load_average_on_day            0.0066      0.013      0.525      0.600      -0.018       0.031\n",
       " hit_target                          0.1198      0.130      0.920      0.358      -0.136       0.376\n",
       " ==============================================================================\n",
       " Omnibus:                      837.960   Durbin-Watson:                   1.979\n",
       " Prob(Omnibus):                  0.000   Jarque-Bera (JB):            47687.601\n",
       " Skew:                           5.617   Prob(JB):                         0.00\n",
       " Kurtosis:                      40.689   Cond. No.                     1.02e+04\n",
       " ==============================================================================\n",
       " \n",
       " Notes:\n",
       " [1] Standard Errors assume that the covariance matrix of the errors is correctly specified.\n",
       " [2] The condition number is large, 1.02e+04. This might indicate that there are\n",
       " strong multicollinearity or other numerical problems.\n",
       " \"\"\")"
      ]
     },
     "execution_count": 262,
     "metadata": {},
     "output_type": "execute_result"
    }
   ],
   "source": [
    "# create linear regression model\n",
    "\n",
    "result = smf.ols(\"absenteeism_time_in_hours ~  C(day_of_the_week) + C(seasons)\", data = df_reg).fit()\n",
    "result2 = smf.ols(\"absenteeism_time_in_hours ~ transportation_expense + distance_from_residence_to_work + service_time + work_load_average_on_day + hit_target\", data = df_reg).fit()\n",
    "\n",
    "result.summary(),result2.summary()"
   ]
  },
  {
   "cell_type": "code",
   "execution_count": 260,
   "metadata": {},
   "outputs": [
    {
     "data": {
      "text/plain": [
       "(<class 'statsmodels.iolib.summary.Summary'>\n",
       " \"\"\"\n",
       "                                 OLS Regression Results                               \n",
       " =====================================================================================\n",
       " Dep. Variable:     absenteeism_time_in_hours   R-squared:                       0.040\n",
       " Model:                                   OLS   Adj. R-squared:                  0.031\n",
       " Method:                        Least Squares   F-statistic:                     4.372\n",
       " Date:                       Sat, 19 Feb 2022   Prob (F-statistic):           9.17e-05\n",
       " Time:                               18:52:46   Log-Likelihood:                -2951.0\n",
       " No. Observations:                        740   AIC:                             5918.\n",
       " Df Residuals:                            732   BIC:                             5955.\n",
       " Df Model:                                  7                                         \n",
       " Covariance Type:                   nonrobust                                         \n",
       " =====================================================================================\n",
       "                         coef    std err          t      P>|t|      [0.025      0.975]\n",
       " -------------------------------------------------------------------------------------\n",
       " Intercept            32.3987     72.105      0.449      0.653    -109.159     173.957\n",
       " C(education)[T.2]    -3.0299      2.098     -1.444      0.149      -7.149       1.089\n",
       " C(education)[T.3]    -2.7459      1.684     -1.631      0.103      -6.052       0.560\n",
       " C(education)[T.4]    -7.3004      6.734     -1.084      0.279     -20.521       5.920\n",
       " age                   0.2371      0.085      2.789      0.005       0.070       0.404\n",
       " weight                0.5332      0.464      1.150      0.251      -0.377       1.444\n",
       " height               -0.1462      0.425     -0.344      0.731      -0.980       0.688\n",
       " body_mass_index      -1.8957      1.344     -1.411      0.159      -4.534       0.743\n",
       " ==============================================================================\n",
       " Omnibus:                      810.877   Durbin-Watson:                   1.982\n",
       " Prob(Omnibus):                  0.000   Jarque-Bera (JB):            41971.889\n",
       " Skew:                           5.344   Prob(JB):                         0.00\n",
       " Kurtosis:                      38.313   Cond. No.                     2.91e+04\n",
       " ==============================================================================\n",
       " \n",
       " Notes:\n",
       " [1] Standard Errors assume that the covariance matrix of the errors is correctly specified.\n",
       " [2] The condition number is large, 2.91e+04. This might indicate that there are\n",
       " strong multicollinearity or other numerical problems.\n",
       " \"\"\",\n",
       " <class 'statsmodels.iolib.summary.Summary'>\n",
       " \"\"\"\n",
       "                                 OLS Regression Results                               \n",
       " =====================================================================================\n",
       " Dep. Variable:     absenteeism_time_in_hours   R-squared:                       0.016\n",
       " Model:                                   OLS   Adj. R-squared:                  0.011\n",
       " Method:                        Least Squares   F-statistic:                     3.047\n",
       " Date:                       Sat, 19 Feb 2022   Prob (F-statistic):             0.0166\n",
       " Time:                               18:52:46   Log-Likelihood:                -2960.1\n",
       " No. Observations:                        740   AIC:                             5930.\n",
       " Df Residuals:                            735   BIC:                             5953.\n",
       " Df Model:                                  4                                         \n",
       " Covariance Type:                   nonrobust                                         \n",
       " ==================================================================================\n",
       "                      coef    std err          t      P>|t|      [0.025      0.975]\n",
       " ----------------------------------------------------------------------------------\n",
       " Intercept          5.3146      0.879      6.043      0.000       3.588       7.041\n",
       " son                1.3732      0.465      2.952      0.003       0.460       2.287\n",
       " social_drinker     0.9515      1.027      0.927      0.354      -1.064       2.967\n",
       " social_smoker     -0.9751      1.923     -0.507      0.612      -4.750       2.800\n",
       " pet               -0.3464      0.377     -0.918      0.359      -1.087       0.394\n",
       " ==============================================================================\n",
       " Omnibus:                      843.039   Durbin-Watson:                   1.996\n",
       " Prob(Omnibus):                  0.000   Jarque-Bera (JB):            49216.050\n",
       " Skew:                           5.665   Prob(JB):                         0.00\n",
       " Kurtosis:                      41.312   Cond. No.                         7.96\n",
       " ==============================================================================\n",
       " \n",
       " Notes:\n",
       " [1] Standard Errors assume that the covariance matrix of the errors is correctly specified.\n",
       " \"\"\")"
      ]
     },
     "execution_count": 260,
     "metadata": {},
     "output_type": "execute_result"
    }
   ],
   "source": [
    "result3 = smf.ols(\"absenteeism_time_in_hours ~ age + C(education) + weight + height + body_mass_index\", data = df_reg).fit()\n",
    "result4 = smf.ols(\"absenteeism_time_in_hours ~ son + social_drinker + social_smoker + pet\", data = df_reg).fit()\n",
    "result3.summary(), result4.summary() "
   ]
  },
  {
   "cell_type": "markdown",
   "metadata": {},
   "source": [
    "* **From all linear models we can conclude that:**\n",
    "#### The variables which are statistically significant in predicting absenteeism time_in_hours with 95% confidence interval:\n",
    "> * Day of the week.\n",
    "> * Transportation expense.\n",
    "> * Distance from residence to work.\n",
    "> * Number of sons.\n",
    "> * Age."
   ]
  },
  {
   "cell_type": "markdown",
   "metadata": {},
   "source": [
    "<a id='logreg'></a>\n",
    "\n",
    "# Logestic Regression models"
   ]
  },
  {
   "cell_type": "code",
   "execution_count": 265,
   "metadata": {},
   "outputs": [
    {
     "name": "stdout",
     "output_type": "stream",
     "text": [
      "Optimization terminated successfully.\n",
      "         Current function value: 0.210027\n",
      "         Iterations 8\n",
      "Optimization terminated successfully.\n",
      "         Current function value: 0.209892\n",
      "         Iterations 7\n",
      "                           Logit Regression Results                           \n",
      "==============================================================================\n",
      "Dep. Variable:         absence_status   No. Observations:                  740\n",
      "Model:                          Logit   Df Residuals:                      732\n",
      "Method:                           MLE   Df Model:                            7\n",
      "Date:                Sat, 19 Feb 2022   Pseudo R-squ.:                 0.06852\n",
      "Time:                        18:57:58   Log-Likelihood:                -155.42\n",
      "converged:                       True   LL-Null:                       -166.85\n",
      "Covariance Type:            nonrobust   LLR p-value:                  0.001798\n",
      "===========================================================================================\n",
      "                              coef    std err          z      P>|z|      [0.025      0.975]\n",
      "-------------------------------------------------------------------------------------------\n",
      "Intercept                   3.6543      0.549      6.654      0.000       2.578       4.731\n",
      "C(day_of_the_week)[T.3]    -0.7534      0.492     -1.533      0.125      -1.717       0.210\n",
      "C(day_of_the_week)[T.4]    -0.4516      0.503     -0.898      0.369      -1.437       0.534\n",
      "C(day_of_the_week)[T.5]    -0.2758      0.555     -0.497      0.619      -1.363       0.811\n",
      "C(day_of_the_week)[T.6]     0.1266      0.574      0.221      0.825      -0.997       1.251\n",
      "C(seasons)[T.2]             0.8237      0.716      1.150      0.250      -0.580       2.228\n",
      "C(seasons)[T.3]            -0.8928      0.507     -1.762      0.078      -1.886       0.100\n",
      "C(seasons)[T.4]            -1.2149      0.478     -2.543      0.011      -2.151      -0.279\n",
      "===========================================================================================\n",
      "                           Logit Regression Results                           \n",
      "==============================================================================\n",
      "Dep. Variable:         absence_status   No. Observations:                  740\n",
      "Model:                          Logit   Df Residuals:                      734\n",
      "Method:                           MLE   Df Model:                            5\n",
      "Date:                Sat, 19 Feb 2022   Pseudo R-squ.:                 0.06912\n",
      "Time:                        18:57:58   Log-Likelihood:                -155.32\n",
      "converged:                       True   LL-Null:                       -166.85\n",
      "Covariance Type:            nonrobust   LLR p-value:                 0.0003278\n",
      "===================================================================================================\n",
      "                                      coef    std err          z      P>|z|      [0.025      0.975]\n",
      "---------------------------------------------------------------------------------------------------\n",
      "Intercept                          -6.5170      3.657     -1.782      0.075     -13.685       0.651\n",
      "transportation_expense             -0.0068      0.002     -2.756      0.006      -0.012      -0.002\n",
      "distance_from_residence_to_work     0.0301      0.012      2.417      0.016       0.006       0.055\n",
      "service_time                       -0.0409      0.041     -0.987      0.323      -0.122       0.040\n",
      "work_load_average_on_day           -0.0018      0.004     -0.442      0.658      -0.010       0.006\n",
      "hit_target                          0.1174      0.034      3.408      0.001       0.050       0.185\n",
      "===================================================================================================\n"
     ]
    }
   ],
   "source": [
    "# create Logestic regression models\n",
    "\n",
    "log_reg1 = smf.logit(\"absence_status ~ + C(day_of_the_week) + C(seasons)\", data = df_reg).fit()\n",
    "log_reg2 = smf.logit(\"absence_status ~ transportation_expense + distance_from_residence_to_work + service_time + work_load_average_on_day + hit_target\", data = df_reg).fit()\n",
    "\n",
    "print(log_reg1.summary());\n",
    "print(log_reg2.summary());"
   ]
  },
  {
   "cell_type": "code",
   "execution_count": 271,
   "metadata": {},
   "outputs": [
    {
     "name": "stdout",
     "output_type": "stream",
     "text": [
      "                         CI 95%(2.5%)  CI 95%(97.5%)  Odds Ratio  pvalue\n",
      "Intercept                   13.169555     113.381689   38.641770   0.000\n",
      "C(day_of_the_week)[T.3]      0.179598       1.233865    0.470744   0.125\n",
      "C(day_of_the_week)[T.4]      0.237580       1.705858    0.636614   0.369\n",
      "C(day_of_the_week)[T.5]      0.255957       2.250377    0.758946   0.619\n",
      "C(day_of_the_week)[T.6]      0.368809       3.492792    1.134977   0.825\n",
      "C(seasons)[T.2]              0.559700       9.278497    2.278854   0.250\n",
      "C(seasons)[T.3]              0.151674       1.105572    0.409496   0.078\n",
      "C(seasons)[T.4]              0.116340       0.756897    0.296745   0.011\n"
     ]
    }
   ],
   "source": [
    "params = np.exp(log_reg1.params)\n",
    "conf = np.exp(log_reg1.conf_int())\n",
    "conf['OR'] = params\n",
    "pvalue=round(log_reg1.pvalues,3)\n",
    "conf['pvalue']=pvalue\n",
    "conf.columns = ['CI 95%(2.5%)', 'CI 95%(97.5%)', 'Odds Ratio','pvalue']\n",
    "print ((conf))"
   ]
  },
  {
   "cell_type": "code",
   "execution_count": 272,
   "metadata": {},
   "outputs": [
    {
     "name": "stdout",
     "output_type": "stream",
     "text": [
      "                                 CI 95%(2.5%)  CI 95%(97.5%)  Odds Ratio  \\\n",
      "Intercept                            0.000001       1.916703    0.001478   \n",
      "transportation_expense               0.988458       0.998043    0.993239   \n",
      "distance_from_residence_to_work      1.005708       1.056041    1.030567   \n",
      "service_time                         0.885077       1.041112    0.959929   \n",
      "work_load_average_on_day             0.990455       1.006078    0.998236   \n",
      "hit_target                           1.051162       1.203155    1.124594   \n",
      "\n",
      "                                 pvalue  \n",
      "Intercept                         0.075  \n",
      "transportation_expense            0.006  \n",
      "distance_from_residence_to_work   0.016  \n",
      "service_time                      0.323  \n",
      "work_load_average_on_day          0.658  \n",
      "hit_target                        0.001  \n"
     ]
    }
   ],
   "source": [
    "params = np.exp(log_reg2.params)\n",
    "conf = np.exp(log_reg2.conf_int())\n",
    "conf['OR'] = params\n",
    "pvalue=round(log_reg2.pvalues,3)\n",
    "conf['pvalue']=pvalue\n",
    "conf.columns = ['CI 95%(2.5%)', 'CI 95%(97.5%)', 'Odds Ratio','pvalue']\n",
    "print ((conf))"
   ]
  },
  {
   "cell_type": "code",
   "execution_count": 269,
   "metadata": {},
   "outputs": [
    {
     "name": "stdout",
     "output_type": "stream",
     "text": [
      "                                OLS Regression Results                               \n",
      "=====================================================================================\n",
      "Dep. Variable:     absenteeism_time_in_hours   R-squared:                       0.040\n",
      "Model:                                   OLS   Adj. R-squared:                  0.031\n",
      "Method:                        Least Squares   F-statistic:                     4.372\n",
      "Date:                       Sat, 19 Feb 2022   Prob (F-statistic):           9.17e-05\n",
      "Time:                               18:58:31   Log-Likelihood:                -2951.0\n",
      "No. Observations:                        740   AIC:                             5918.\n",
      "Df Residuals:                            732   BIC:                             5955.\n",
      "Df Model:                                  7                                         \n",
      "Covariance Type:                   nonrobust                                         \n",
      "=====================================================================================\n",
      "                        coef    std err          t      P>|t|      [0.025      0.975]\n",
      "-------------------------------------------------------------------------------------\n",
      "Intercept            32.3987     72.105      0.449      0.653    -109.159     173.957\n",
      "C(education)[T.2]    -3.0299      2.098     -1.444      0.149      -7.149       1.089\n",
      "C(education)[T.3]    -2.7459      1.684     -1.631      0.103      -6.052       0.560\n",
      "C(education)[T.4]    -7.3004      6.734     -1.084      0.279     -20.521       5.920\n",
      "age                   0.2371      0.085      2.789      0.005       0.070       0.404\n",
      "weight                0.5332      0.464      1.150      0.251      -0.377       1.444\n",
      "height               -0.1462      0.425     -0.344      0.731      -0.980       0.688\n",
      "body_mass_index      -1.8957      1.344     -1.411      0.159      -4.534       0.743\n",
      "==============================================================================\n",
      "Omnibus:                      810.877   Durbin-Watson:                   1.982\n",
      "Prob(Omnibus):                  0.000   Jarque-Bera (JB):            41971.889\n",
      "Skew:                           5.344   Prob(JB):                         0.00\n",
      "Kurtosis:                      38.313   Cond. No.                     2.91e+04\n",
      "==============================================================================\n",
      "\n",
      "Notes:\n",
      "[1] Standard Errors assume that the covariance matrix of the errors is correctly specified.\n",
      "[2] The condition number is large, 2.91e+04. This might indicate that there are\n",
      "strong multicollinearity or other numerical problems.\n",
      "                                OLS Regression Results                               \n",
      "=====================================================================================\n",
      "Dep. Variable:     absenteeism_time_in_hours   R-squared:                       0.016\n",
      "Model:                                   OLS   Adj. R-squared:                  0.011\n",
      "Method:                        Least Squares   F-statistic:                     3.047\n",
      "Date:                       Sat, 19 Feb 2022   Prob (F-statistic):             0.0166\n",
      "Time:                               18:58:31   Log-Likelihood:                -2960.1\n",
      "No. Observations:                        740   AIC:                             5930.\n",
      "Df Residuals:                            735   BIC:                             5953.\n",
      "Df Model:                                  4                                         \n",
      "Covariance Type:                   nonrobust                                         \n",
      "==================================================================================\n",
      "                     coef    std err          t      P>|t|      [0.025      0.975]\n",
      "----------------------------------------------------------------------------------\n",
      "Intercept          5.3146      0.879      6.043      0.000       3.588       7.041\n",
      "son                1.3732      0.465      2.952      0.003       0.460       2.287\n",
      "social_drinker     0.9515      1.027      0.927      0.354      -1.064       2.967\n",
      "social_smoker     -0.9751      1.923     -0.507      0.612      -4.750       2.800\n",
      "pet               -0.3464      0.377     -0.918      0.359      -1.087       0.394\n",
      "==============================================================================\n",
      "Omnibus:                      843.039   Durbin-Watson:                   1.996\n",
      "Prob(Omnibus):                  0.000   Jarque-Bera (JB):            49216.050\n",
      "Skew:                           5.665   Prob(JB):                         0.00\n",
      "Kurtosis:                      41.312   Cond. No.                         7.96\n",
      "==============================================================================\n",
      "\n",
      "Notes:\n",
      "[1] Standard Errors assume that the covariance matrix of the errors is correctly specified.\n"
     ]
    }
   ],
   "source": [
    "# create Logestic regression models\n",
    "\n",
    "log_reg3 = smf.ols(\"absenteeism_time_in_hours ~ age + C(education) + weight + height + body_mass_index\", data = df_reg).fit()\n",
    "log_reg4 = smf.ols(\"absenteeism_time_in_hours ~ son + social_drinker + social_smoker + pet\", data = df_reg).fit()\n",
    "\n",
    "print(log_reg3.summary());\n",
    "print(log_reg4.summary());"
   ]
  },
  {
   "cell_type": "code",
   "execution_count": 270,
   "metadata": {},
   "outputs": [
    {
     "name": "stdout",
     "output_type": "stream",
     "text": [
      "                   CI 95%(2.5%)  CI 95%(97.5%)    Odds Ratio  pvalue\n",
      "Intercept          3.914129e-48   3.536224e+75  1.176488e+14   0.653\n",
      "C(education)[T.2]  7.859203e-04   2.970671e+00  4.831884e-02   0.149\n",
      "C(education)[T.3]  2.354063e-03   1.750453e+00  6.419250e-02   0.103\n",
      "C(education)[T.4]  1.224774e-09   3.722935e+02  6.752595e-04   0.279\n",
      "age                1.072751e+00   1.497881e+00  1.267617e+00   0.005\n",
      "weight             6.856184e-01   4.237136e+00  1.704423e+00   0.251\n",
      "height             3.752932e-01   1.988900e+00  8.639564e-01   0.731\n",
      "body_mass_index    1.073567e-02   2.101730e+00  1.502115e-01   0.159\n"
     ]
    }
   ],
   "source": [
    "params = np.exp(log_reg3.params)\n",
    "conf = np.exp(log_reg3.conf_int())\n",
    "conf['OR'] = params\n",
    "pvalue=round(log_reg3.pvalues,3)\n",
    "conf['pvalue']=pvalue\n",
    "conf.columns = ['CI 95%(2.5%)', 'CI 95%(97.5%)', 'Odds Ratio','pvalue']\n",
    "print ((conf))"
   ]
  },
  {
   "cell_type": "code",
   "execution_count": 257,
   "metadata": {},
   "outputs": [
    {
     "name": "stdout",
     "output_type": "stream",
     "text": [
      "                CI 95%(2.5%)  CI 95%(97.5%)  Odds Ratio  pvalue\n",
      "Intercept          36.161287    1142.782874  203.284283   0.000\n",
      "son                 1.583963       9.840893    3.948114   0.003\n",
      "social_drinker      0.345124      19.429712    2.589529   0.354\n",
      "social_smoker       0.008647      16.448665    0.377145   0.612\n",
      "pet                 0.337203       1.483409    0.707255   0.359\n"
     ]
    }
   ],
   "source": [
    "params = np.exp(log_reg4.params)\n",
    "conf = np.exp(log_reg4.conf_int())\n",
    "conf['OR'] = params\n",
    "pvalue=round(log_reg4.pvalues,3)\n",
    "conf['pvalue']=pvalue\n",
    "conf.columns = ['CI 95%(2.5%)', 'CI 95%(97.5%)', 'Odds Ratio','pvalue']\n",
    "print ((conf))"
   ]
  },
  {
   "cell_type": "markdown",
   "metadata": {},
   "source": [
    "* **From all Logestic regression models we can conclude that:**\n",
    "#### The variables which are statistically significant in predicting absence with 95% confidence interval:\n",
    "\n",
    "> * Transportation expense.\n",
    "> * Distance from residence to work.\n",
    "> * Hit target\n",
    "> * Age\n",
    "> * Number of sons."
   ]
  },
  {
   "cell_type": "markdown",
   "metadata": {},
   "source": [
    "<a id='conclusions'></a>\n",
    "## Conclusions\n",
    "\n",
    ">  **1. The most frequent reason for absences is blood donation which represented by number (23) with 149 absence case.**\n",
    "\n",
    "> **2. The top frequent reasons which causes absence are not medical reasons with percentage 53.65%.**\n",
    "\n",
    "> **3. The best employees are:** \n",
    "\n",
    "      . The employees who have id numbers (4, 8 and 35) with 0 hours absence.\n",
    "\n",
    "> **4. The worst employee is:** \n",
    "\n",
    "      . The employee who has id number 3 with 482 hours absence.\n",
    "\n",
    "> **5.March has the higher absence rate with total 765 hours and January has the lowest absence rate with total 222 hours.**\n",
    "\n",
    "> **6. Monday has the higher absence rate with total 1489 hours and Thursday has the lowest absence rate with total 553 hours.**\n",
    "\n",
    "> **7. There is no strong correlation between any variable and total hours of absence.**\n",
    "\n",
    "> **8. The variables which are statistically significant in predicting absenteeism time_in_hours with 95% confidence interval:**\n",
    "\n",
    "      . Day of the week. \n",
    "      . Transportation expense.\n",
    "      . Distance from residence to work.\n",
    "      . Number of sons.\n",
    "      . Age.\n",
    "     \n",
    "> **9. The variables which are statistically significant in predicting absence with 95% confidence interval:**\n",
    "\n",
    "      . Transportation expense.\n",
    "      . Distance from residence to work.\n",
    "      . Hit target\n",
    "      . Number of sons."
   ]
  }
 ],
 "metadata": {
  "kernelspec": {
   "display_name": "Python 3 (ipykernel)",
   "language": "python",
   "name": "python3"
  },
  "language_info": {
   "codemirror_mode": {
    "name": "ipython",
    "version": 3
   },
   "file_extension": ".py",
   "mimetype": "text/x-python",
   "name": "python",
   "nbconvert_exporter": "python",
   "pygments_lexer": "ipython3",
   "version": "3.9.7"
  }
 },
 "nbformat": 4,
 "nbformat_minor": 2
}
